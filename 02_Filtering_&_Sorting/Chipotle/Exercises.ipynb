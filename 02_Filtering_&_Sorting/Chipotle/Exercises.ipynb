{
 "cells": [
  {
   "cell_type": "markdown",
   "metadata": {},
   "source": [
    "# Ex1 - Filtering and Sorting Data"
   ]
  },
  {
   "cell_type": "markdown",
   "metadata": {},
   "source": [
    "This time we are going to pull data directly from the internet.\n",
    "Special thanks to: https://github.com/justmarkham for sharing the dataset and materials.\n",
    "\n",
    "### Step 1. Import the necessary libraries"
   ]
  },
  {
   "cell_type": "code",
   "execution_count": 14,
   "metadata": {
    "collapsed": false,
    "jupyter": {
     "outputs_hidden": false
    }
   },
   "outputs": [],
   "source": [
    "from pyspark.sql import SparkSession\n",
    "import requests\n",
    "from pyspark.sql.functions import asc, desc, regexp_replace\n",
    "from pyspark.sql.types import DoubleType"
   ]
  },
  {
   "cell_type": "code",
   "execution_count": 2,
   "metadata": {},
   "outputs": [
    {
     "name": "stdout",
     "output_type": "stream",
     "text": [
      "22/09/07 13:04:25 WARN Utils: Your hostname, xkeyscore resolves to a loopback address: 127.0.1.1; using 192.168.1.8 instead (on interface wlp0s20f3)\n",
      "22/09/07 13:04:25 WARN Utils: Set SPARK_LOCAL_IP if you need to bind to another address\n"
     ]
    },
    {
     "name": "stderr",
     "output_type": "stream",
     "text": [
      "Setting default log level to \"WARN\".\n",
      "To adjust logging level use sc.setLogLevel(newLevel). For SparkR, use setLogLevel(newLevel).\n"
     ]
    },
    {
     "name": "stdout",
     "output_type": "stream",
     "text": [
      "22/09/07 13:04:26 WARN NativeCodeLoader: Unable to load native-hadoop library for your platform... using builtin-java classes where applicable\n"
     ]
    }
   ],
   "source": [
    "spark = SparkSession.builder.master(\"local[2]\").appName(\"chipotle\").getOrCreate()"
   ]
  },
  {
   "cell_type": "markdown",
   "metadata": {
    "tags": []
   },
   "source": [
    "### Step 2. Import the dataset from this [address](https://raw.githubusercontent.com/justmarkham/DAT8/master/data/chipotle.tsv). "
   ]
  },
  {
   "cell_type": "code",
   "execution_count": 3,
   "metadata": {},
   "outputs": [],
   "source": [
    "url = \"https://raw.githubusercontent.com/justmarkham/DAT8/master/data/chipotle.tsv\""
   ]
  },
  {
   "cell_type": "code",
   "execution_count": 6,
   "metadata": {},
   "outputs": [],
   "source": [
    "r = requests.get(url)\n",
    "\n",
    "with open(\"chipotle.tsv\", \"w\") as f:\n",
    "    f.write(r.text)"
   ]
  },
  {
   "cell_type": "markdown",
   "metadata": {},
   "source": [
    "### Step 3. Assign it to a variable called chipo."
   ]
  },
  {
   "cell_type": "code",
   "execution_count": 4,
   "metadata": {
    "collapsed": false,
    "jupyter": {
     "outputs_hidden": false
    }
   },
   "outputs": [],
   "source": [
    "chipo = spark.read.options(header=True, inferSchema=True, delimiter=\"\\t\").csv(\"chipotle.tsv\")"
   ]
  },
  {
   "cell_type": "markdown",
   "metadata": {},
   "source": [
    "### Step 4. How many products cost more than $10.00?"
   ]
  },
  {
   "cell_type": "code",
   "execution_count": 18,
   "metadata": {},
   "outputs": [],
   "source": [
    "# removing $ from each cell value in price to convert to float\n",
    "df_chipo = chipo.withColumn('price', regexp_replace('item_price','[$]', '').cast(DoubleType()))\n",
    "# df_chipo.show(10)\n",
    "    "
   ]
  },
  {
   "cell_type": "code",
   "execution_count": 19,
   "metadata": {
    "collapsed": false,
    "jupyter": {
     "outputs_hidden": false
    }
   },
   "outputs": [
    {
     "name": "stdout",
     "output_type": "stream",
     "text": [
      "+--------+--------+--------------------+--------------------+----------+-----+\n",
      "|order_id|quantity|           item_name|  choice_description|item_price|price|\n",
      "+--------+--------+--------------------+--------------------+----------+-----+\n",
      "|       1|       1|Chips and Fresh T...|                NULL|    $2.39 | 2.39|\n",
      "|       1|       1|                Izze|        [Clementine]|    $3.39 | 3.39|\n",
      "|       1|       1|    Nantucket Nectar|             [Apple]|    $3.39 | 3.39|\n",
      "|       1|       1|Chips and Tomatil...|                NULL|    $2.39 | 2.39|\n",
      "|       2|       2|        Chicken Bowl|[Tomatillo-Red Ch...|   $16.98 |16.98|\n",
      "|       3|       1|        Chicken Bowl|[Fresh Tomato Sal...|   $10.98 |10.98|\n",
      "|       3|       1|       Side of Chips|                NULL|    $1.69 | 1.69|\n",
      "|       4|       1|       Steak Burrito|[Tomatillo Red Ch...|   $11.75 |11.75|\n",
      "|       4|       1|    Steak Soft Tacos|[Tomatillo Green ...|    $9.25 | 9.25|\n",
      "|       5|       1|       Steak Burrito|[Fresh Tomato Sal...|    $9.25 | 9.25|\n",
      "+--------+--------+--------------------+--------------------+----------+-----+\n",
      "only showing top 10 rows\n",
      "\n"
     ]
    }
   ],
   "source": [
    "df_chipo.show(10)"
   ]
  },
  {
   "cell_type": "code",
   "execution_count": 21,
   "metadata": {},
   "outputs": [
    {
     "data": {
      "text/plain": [
       "1130"
      ]
     },
     "execution_count": 21,
     "metadata": {},
     "output_type": "execute_result"
    }
   ],
   "source": [
    "df_chipo.select('item_name').filter('price > 10.00').count()"
   ]
  },
  {
   "cell_type": "markdown",
   "metadata": {},
   "source": [
    "### Step 5. What is the price of each item? \n",
    "###### print a data frame with only two columns item_name and item_price"
   ]
  },
  {
   "cell_type": "code",
   "execution_count": 34,
   "metadata": {
    "collapsed": false,
    "jupyter": {
     "outputs_hidden": false
    }
   },
   "outputs": [
    {
     "name": "stdout",
     "output_type": "stream",
     "text": [
      "+--------------------+----------+\n",
      "|           item_name|item_price|\n",
      "+--------------------+----------+\n",
      "|    Steak Soft Tacos|    $9.25 |\n",
      "|    Barbacoa Burrito|    $9.25 |\n",
      "|Chips and Mild Fr...|    $3.00 |\n",
      "|       Carnitas Bowl|   $23.50 |\n",
      "|     Chicken Burrito|   $10.58 |\n",
      "|        Chicken Bowl|    $8.49 |\n",
      "|  Chicken Salad Bowl|   $17.50 |\n",
      "|       Bottled Water|    $3.00 |\n",
      "|        Chicken Bowl|    $8.75 |\n",
      "|        Chicken Bowl|   $21.96 |\n",
      "|    Nantucket Nectar|    $6.78 |\n",
      "|Chicken Crispy Tacos|   $10.98 |\n",
      "|Chips and Tomatil...|    $2.39 |\n",
      "|Chips and Fresh T...|   $44.25 |\n",
      "|       Bottled Water|    $4.50 |\n",
      "|      Veggie Burrito|   $33.75 |\n",
      "|     Chicken Burrito|   $16.38 |\n",
      "|         Veggie Bowl|    $8.75 |\n",
      "|Chicken Crispy Tacos|   $11.25 |\n",
      "|Chips and Tomatil...|    $5.90 |\n",
      "|  Chicken Soft Tacos|    $8.75 |\n",
      "|        Chicken Bowl|   $32.94 |\n",
      "|   Canned Soft Drink|    $2.50 |\n",
      "|          Steak Bowl|   $23.50 |\n",
      "|       Chicken Salad|    $8.49 |\n",
      "|    Barbacoa Burrito|   $11.48 |\n",
      "|     Chicken Burrito|    $8.75 |\n",
      "| Carnitas Salad Bowl|    $9.39 |\n",
      "|Chips and Tomatil...|    $4.78 |\n",
      "|       Bottled Water|    $2.18 |\n",
      "|Chips and Fresh T...|    $5.90 |\n",
      "|   Veggie Soft Tacos|   $16.98 |\n",
      "| Veggie Crispy Tacos|    $8.49 |\n",
      "|        Chicken Bowl|   $10.98 |\n",
      "|      Veggie Burrito|    $8.49 |\n",
      "|         Canned Soda|    $4.36 |\n",
      "|       Side of Chips|    $1.69 |\n",
      "|Chips and Tomatil...|    $2.39 |\n",
      "|Barbacoa Crispy T...|   $11.48 |\n",
      "|   Veggie Soft Tacos|    $8.49 |\n",
      "|       Bottled Water|    $1.50 |\n",
      "|       Bottled Water|    $7.50 |\n",
      "|   6 Pack Soft Drink|    $6.49 |\n",
      "|        Chicken Bowl|   $26.25 |\n",
      "|          Steak Bowl|   $18.50 |\n",
      "| Chips and Guacamole|    $3.99 |\n",
      "|        Chicken Bowl|   $22.50 |\n",
      "|    Carnitas Burrito|   $11.75 |\n",
      "|    Carnitas Burrito|    $8.99 |\n",
      "|     Chicken Burrito|   $17.50 |\n",
      "|       Steak Burrito|   $22.96 |\n",
      "|    Barbacoa Burrito|   $11.75 |\n",
      "|Carnitas Crispy T...|   $17.98 |\n",
      "|         Veggie Bowl|    $8.49 |\n",
      "| Carnitas Soft Tacos|    $9.25 |\n",
      "|       Bottled Water|    $3.27 |\n",
      "| Chips and Guacamole|    $3.89 |\n",
      "|        Chicken Bowl|   $10.58 |\n",
      "|  Chicken Soft Tacos|   $21.96 |\n",
      "|       Steak Burrito|    $8.99 |\n",
      "|       Carnitas Bowl|   $11.48 |\n",
      "| Carnitas Salad Bowl|   $11.89 |\n",
      "|       Steak Burrito|   $18.50 |\n",
      "|Chips and Fresh T...|    $2.29 |\n",
      "|Barbacoa Crispy T...|    $9.25 |\n",
      "|    Carnitas Burrito|    $9.25 |\n",
      "|             Burrito|    $7.40 |\n",
      "|     Chicken Burrito|   $35.00 |\n",
      "|       Steak Burrito|    $9.25 |\n",
      "|         Veggie Bowl|   $10.98 |\n",
      "|Chicken Crispy Tacos|    $8.49 |\n",
      "| Chips and Guacamole|   $17.80 |\n",
      "|   Veggie Soft Tacos|   $11.25 |\n",
      "|      Carnitas Salad|    $8.99 |\n",
      "|Chicken Crispy Tacos|    $8.75 |\n",
      "|       Carnitas Bowl|   $11.75 |\n",
      "|   Canned Soft Drink|    $5.00 |\n",
      "|       Barbacoa Bowl|    $9.25 |\n",
      "|    Carnitas Burrito|   $11.08 |\n",
      "|       Bottled Water|   $10.50 |\n",
      "|       Barbacoa Bowl|   $11.49 |\n",
      "|Barbacoa Crispy T...|   $18.50 |\n",
      "|Chips and Tomatil...|    $4.78 |\n",
      "|               Chips|    $6.45 |\n",
      "| Barbacoa Soft Tacos|   $11.48 |\n",
      "|         Canned Soda|    $1.09 |\n",
      "|     Chicken Burrito|    $8.19 |\n",
      "|  Chicken Salad Bowl|   $11.25 |\n",
      "|  Steak Crispy Tacos|   $11.75 |\n",
      "| Chips and Guacamole|   $13.35 |\n",
      "| Chips and Guacamole|    $8.90 |\n",
      "|    Carnitas Burrito|   $11.48 |\n",
      "|        Chicken Bowl|   $11.25 |\n",
      "|Carnitas Crispy T...|   $11.75 |\n",
      "|  Chicken Soft Tacos|   $11.25 |\n",
      "|       Side of Chips|   $13.52 |\n",
      "|Chips and Tomatil...|    $5.90 |\n",
      "|   6 Pack Soft Drink|   $12.98 |\n",
      "|       Barbacoa Bowl|   $11.75 |\n",
      "|Chips and Roasted...|    $2.95 |\n",
      "|       Carnitas Bowl|    $9.25 |\n",
      "| Barbacoa Soft Tacos|    $8.99 |\n",
      "|Chips and Tomatil...|    $2.95 |\n",
      "|         Veggie Bowl|   $16.98 |\n",
      "|               Chips|    $1.99 |\n",
      "|Chips and Roasted...|    $2.39 |\n",
      "|  Chicken Soft Tacos|   $16.98 |\n",
      "|        Chicken Bowl|    $8.19 |\n",
      "|       Side of Chips|    $5.07 |\n",
      "|Barbacoa Crispy T...|    $8.99 |\n",
      "|    Steak Salad Bowl|    $9.39 |\n",
      "|    Carnitas Burrito|    $8.69 |\n",
      "|Chips and Fresh T...|    $2.39 |\n",
      "|          Steak Bowl|   $11.75 |\n",
      "|       Steak Burrito|    $8.69 |\n",
      "|       Barbacoa Bowl|   $11.48 |\n",
      "|    Steak Soft Tacos|   $11.48 |\n",
      "|          Steak Bowl|    $9.25 |\n",
      "|                Bowl|    $7.40 |\n",
      "|       Steak Burrito|   $23.50 |\n",
      "|    Steak Soft Tacos|    $8.99 |\n",
      "|       Steak Burrito|   $11.75 |\n",
      "|                Bowl|   $22.20 |\n",
      "| Chips and Guacamole|    $4.00 |\n",
      "|  Chicken Salad Bowl|   $22.50 |\n",
      "|  Steak Crispy Tacos|    $8.99 |\n",
      "|Carnitas Crispy T...|    $9.25 |\n",
      "|               Salad|    $7.40 |\n",
      "| Chips and Guacamole|    $8.50 |\n",
      "|       Chicken Salad|   $10.98 |\n",
      "| Barbacoa Salad Bowl|   $11.89 |\n",
      "|        Chicken Bowl|   $16.98 |\n",
      "|       Barbacoa Bowl|    $8.69 |\n",
      "|  Chicken Salad Bowl|    $8.75 |\n",
      "| Barbacoa Soft Tacos|    $9.25 |\n",
      "|         Canned Soda|    $2.18 |\n",
      "|     Chicken Burrito|   $10.98 |\n",
      "|       Carnitas Bowl|   $35.25 |\n",
      "|Barbacoa Crispy T...|   $11.75 |\n",
      "|       Carnitas Bowl|   $11.08 |\n",
      "|     Chicken Burrito|    $8.49 |\n",
      "|   Veggie Salad Bowl|   $11.25 |\n",
      "|Carnitas Crispy T...|    $8.99 |\n",
      "|    Barbacoa Burrito|    $8.69 |\n",
      "|       Chicken Salad|    $8.19 |\n",
      "|          Steak Bowl|    $8.99 |\n",
      "|    Steak Salad Bowl|   $11.89 |\n",
      "|         Steak Salad|    $8.99 |\n",
      "|          Steak Bowl|   $11.08 |\n",
      "|  Chicken Soft Tacos|   $17.50 |\n",
      "|   Veggie Salad Bowl|    $8.75 |\n",
      "| Carnitas Soft Tacos|   $11.75 |\n",
      "|     Chicken Burrito|   $26.25 |\n",
      "|               Chips|    $2.15 |\n",
      "|    Barbacoa Burrito|    $8.99 |\n",
      "|Chicken Crispy Tacos|   $17.50 |\n",
      "|   Canned Soft Drink|    $1.25 |\n",
      "|  Steak Crispy Tacos|    $8.69 |\n",
      "|Chips and Tomatil...|    $7.17 |\n",
      "| Barbacoa Soft Tacos|   $11.75 |\n",
      "|         Steak Salad|    $8.69 |\n",
      "|    Nantucket Nectar|    $3.39 |\n",
      "|        Chicken Bowl|    $8.50 |\n",
      "|     Chicken Burrito|   $11.25 |\n",
      "| Carnitas Soft Tacos|    $8.99 |\n",
      "|Chips and Tomatil...|    $2.95 |\n",
      "|                Izze|    $3.39 |\n",
      "|       Steak Burrito|   $27.75 |\n",
      "|          Steak Bowl|    $8.69 |\n",
      "|     Chicken Burrito|   $21.96 |\n",
      "|    Steak Soft Tacos|   $11.75 |\n",
      "| Barbacoa Salad Bowl|    $9.39 |\n",
      "|      Veggie Burrito|   $10.98 |\n",
      "|       Bottled Water|    $6.00 |\n",
      "|          Steak Bowl|   $11.48 |\n",
      "|      Veggie Burrito|   $11.25 |\n",
      "|        Crispy Tacos|    $7.40 |\n",
      "|       Barbacoa Bowl|    $8.99 |\n",
      "| Chips and Guacamole|    $7.98 |\n",
      "|               Chips|    $4.30 |\n",
      "|    Steak Salad Bowl|   $23.78 |\n",
      "|  Chicken Soft Tacos|   $10.98 |\n",
      "|  Steak Crispy Tacos|    $9.25 |\n",
      "|          Steak Bowl|   $17.98 |\n",
      "|   Canned Soft Drink|    $3.75 |\n",
      "|        Chicken Bowl|   $17.50 |\n",
      "|        Veggie Salad|    $8.49 |\n",
      "|Chips and Fresh T...|    $2.95 |\n",
      "|       Steak Burrito|   $17.98 |\n",
      "|Chips and Roasted...|    $5.90 |\n",
      "|       Steak Burrito|   $11.48 |\n",
      "|      Veggie Burrito|    $8.75 |\n",
      "|    Steak Soft Tacos|   $18.50 |\n",
      "|Chips and Fresh T...|   $11.80 |\n",
      "|         Veggie Bowl|   $11.25 |\n",
      "|    Carnitas Burrito|   $18.50 |\n",
      "|       Steak Burrito|   $11.08 |\n",
      "|       Bottled Water|    $1.09 |\n",
      "|          Steak Bowl|   $26.07 |\n",
      "|       Bottled Water|   $15.00 |\n",
      "| Chips and Guacamole|    $4.45 |\n",
      "|       Steak Burrito|   $22.16 |\n",
      "|  Chicken Soft Tacos|    $8.49 |\n",
      "|       Carnitas Bowl|    $8.99 |\n",
      "|    Barbacoa Burrito|   $11.08 |\n",
      "|   Veggie Soft Tacos|    $8.75 |\n",
      "|     Chicken Burrito|   $16.98 |\n",
      "|Chicken Crispy Tacos|   $16.98 |\n",
      "|  Steak Crispy Tacos|   $17.98 |\n",
      "+--------------------+----------+\n",
      "\n"
     ]
    }
   ],
   "source": [
    "chipo.select('item_name', 'item_price').distinct().show(1000)"
   ]
  },
  {
   "cell_type": "markdown",
   "metadata": {},
   "source": [
    "### Step 6. Sort by the name of the item"
   ]
  },
  {
   "cell_type": "code",
   "execution_count": 19,
   "metadata": {
    "collapsed": false,
    "jupyter": {
     "outputs_hidden": false
    }
   },
   "outputs": [
    {
     "data": {
      "text/plain": [
       "[Row(order_id=264, quantity=1, item_name='6 Pack Soft Drink', choice_description='[Diet Coke]', item_price='$6.49 '),\n",
       " Row(order_id=520, quantity=1, item_name='6 Pack Soft Drink', choice_description='[Sprite]', item_price='$6.49 '),\n",
       " Row(order_id=298, quantity=1, item_name='6 Pack Soft Drink', choice_description='[Nestea]', item_price='$6.49 '),\n",
       " Row(order_id=148, quantity=1, item_name='6 Pack Soft Drink', choice_description='[Diet Coke]', item_price='$6.49 '),\n",
       " Row(order_id=306, quantity=1, item_name='6 Pack Soft Drink', choice_description='[Coke]', item_price='$6.49 '),\n",
       " Row(order_id=168, quantity=1, item_name='6 Pack Soft Drink', choice_description='[Diet Coke]', item_price='$6.49 '),\n",
       " Row(order_id=363, quantity=1, item_name='6 Pack Soft Drink', choice_description='[Coke]', item_price='$6.49 '),\n",
       " Row(order_id=230, quantity=1, item_name='6 Pack Soft Drink', choice_description='[Diet Coke]', item_price='$6.49 '),\n",
       " Row(order_id=422, quantity=1, item_name='6 Pack Soft Drink', choice_description='[Sprite]', item_price='$6.49 '),\n",
       " Row(order_id=432, quantity=1, item_name='6 Pack Soft Drink', choice_description='[Coke]', item_price='$6.49 ')]"
      ]
     },
     "execution_count": 19,
     "metadata": {},
     "output_type": "execute_result"
    }
   ],
   "source": [
    "chipo.select(\"*\").sort(asc(\"item_name\")).head(10)"
   ]
  },
  {
   "cell_type": "markdown",
   "metadata": {},
   "source": [
    "### Step 7. What was the quantity of the most expensive item ordered?"
   ]
  },
  {
   "cell_type": "code",
   "execution_count": 49,
   "metadata": {
    "collapsed": false,
    "jupyter": {
     "outputs_hidden": false
    }
   },
   "outputs": [
    {
     "name": "stdout",
     "output_type": "stream",
     "text": [
      "+--------+\n",
      "|quantity|\n",
      "+--------+\n",
      "|      15|\n",
      "+--------+\n",
      "only showing top 1 row\n",
      "\n"
     ]
    }
   ],
   "source": [
    "df_chipo.select('quantity').sort(desc('price')).show(1)"
   ]
  },
  {
   "cell_type": "markdown",
   "metadata": {},
   "source": [
    "### Step 8. How many times was a Veggie Salad Bowl ordered?"
   ]
  },
  {
   "cell_type": "code",
   "execution_count": 21,
   "metadata": {
    "collapsed": false,
    "jupyter": {
     "outputs_hidden": false
    }
   },
   "outputs": [
    {
     "data": {
      "text/plain": [
       "18"
      ]
     },
     "execution_count": 21,
     "metadata": {},
     "output_type": "execute_result"
    }
   ],
   "source": [
    "chipo.select(\"item_name\").filter(\"item_name='Veggie Salad Bowl'\").count()"
   ]
  },
  {
   "cell_type": "markdown",
   "metadata": {},
   "source": [
    "### Step 9. How many times did someone order more than one Canned Soda?"
   ]
  },
  {
   "cell_type": "code",
   "execution_count": 27,
   "metadata": {
    "collapsed": false,
    "jupyter": {
     "outputs_hidden": false
    }
   },
   "outputs": [
    {
     "name": "stdout",
     "output_type": "stream",
     "text": [
      "+-----------+-----+\n",
      "|  item_name|count|\n",
      "+-----------+-----+\n",
      "|Canned Soda|   20|\n",
      "+-----------+-----+\n",
      "\n"
     ]
    }
   ],
   "source": [
    "chipo.select(\"item_name\").filter(\"item_name='Canned Soda' and quantity>1\").groupby(\"item_name\").count().show()"
   ]
  }
 ],
 "metadata": {
  "kernelspec": {
   "display_name": "Python 3 (ipykernel)",
   "language": "python",
   "name": "python3"
  },
  "language_info": {
   "codemirror_mode": {
    "name": "ipython",
    "version": 3
   },
   "file_extension": ".py",
   "mimetype": "text/x-python",
   "name": "python",
   "nbconvert_exporter": "python",
   "pygments_lexer": "ipython3",
   "version": "3.8.10"
  }
 },
 "nbformat": 4,
 "nbformat_minor": 4
}
