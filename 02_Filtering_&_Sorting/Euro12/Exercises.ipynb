{
 "cells": [
  {
   "cell_type": "markdown",
   "metadata": {},
   "source": [
    "# Ex2 - Filtering and Sorting Data"
   ]
  },
  {
   "cell_type": "markdown",
   "metadata": {},
   "source": [
    "This time we are going to pull data directly from the internet.\n",
    "\n",
    "### Step 1. Import the necessary libraries"
   ]
  },
  {
   "cell_type": "code",
   "execution_count": 1,
   "metadata": {
    "collapsed": false,
    "jupyter": {
     "outputs_hidden": false
    }
   },
   "outputs": [],
   "source": [
    "from pyspark.sql import SparkSession\n",
    "from pyspark.sql.functions import *\n",
    "from pyspark.sql.types import DoubleType"
   ]
  },
  {
   "cell_type": "code",
   "execution_count": 2,
   "metadata": {},
   "outputs": [
    {
     "name": "stdout",
     "output_type": "stream",
     "text": [
      "22/09/07 13:25:01 WARN Utils: Your hostname, xkeyscore resolves to a loopback address: 127.0.1.1; using 192.168.1.8 instead (on interface wlp0s20f3)\n",
      "22/09/07 13:25:01 WARN Utils: Set SPARK_LOCAL_IP if you need to bind to another address\n"
     ]
    },
    {
     "name": "stderr",
     "output_type": "stream",
     "text": [
      "Setting default log level to \"WARN\".\n",
      "To adjust logging level use sc.setLogLevel(newLevel). For SparkR, use setLogLevel(newLevel).\n"
     ]
    },
    {
     "name": "stdout",
     "output_type": "stream",
     "text": [
      "22/09/07 13:25:01 WARN NativeCodeLoader: Unable to load native-hadoop library for your platform... using builtin-java classes where applicable\n",
      "22/09/07 13:25:02 WARN Utils: Service 'SparkUI' could not bind on port 4040. Attempting port 4041.\n"
     ]
    }
   ],
   "source": [
    "spark = SparkSession.builder.master(\"local[2]\").appName(\"euro\").getOrCreate()"
   ]
  },
  {
   "cell_type": "markdown",
   "metadata": {},
   "source": [
    "### Step 2. Import the dataset from this [address](https://raw.githubusercontent.com/guipsamora/pandas_exercises/master/02_Filtering_%26_Sorting/Euro12/Euro_2012_stats_TEAM.csv). "
   ]
  },
  {
   "cell_type": "markdown",
   "metadata": {},
   "source": [
    "### Step 3. Assign it to a variable called euro12."
   ]
  },
  {
   "cell_type": "code",
   "execution_count": 3,
   "metadata": {
    "collapsed": false,
    "jupyter": {
     "outputs_hidden": false
    }
   },
   "outputs": [],
   "source": [
    "euro12 = spark.read.options(header=True, inferSchema=True).csv(\"Euro_2012_stats_TEAM.csv\")"
   ]
  },
  {
   "cell_type": "code",
   "execution_count": 10,
   "metadata": {},
   "outputs": [
    {
     "data": {
      "text/plain": [
       "['Team',\n",
       " 'Goals',\n",
       " 'Shots on target',\n",
       " 'Shots off target',\n",
       " 'Shooting Accuracy',\n",
       " '% Goals-to-shots',\n",
       " 'Total shots (inc. Blocked)',\n",
       " 'Hit Woodwork',\n",
       " 'Penalty goals',\n",
       " 'Penalties not scored',\n",
       " 'Headed goals',\n",
       " 'Passes',\n",
       " 'Passes completed',\n",
       " 'Passing Accuracy',\n",
       " 'Touches',\n",
       " 'Crosses',\n",
       " 'Dribbles',\n",
       " 'Corners Taken',\n",
       " 'Tackles',\n",
       " 'Clearances',\n",
       " 'Interceptions',\n",
       " 'Clearances off line',\n",
       " 'Clean Sheets',\n",
       " 'Blocks',\n",
       " 'Goals conceded',\n",
       " 'Saves made',\n",
       " 'Saves-to-shots ratio',\n",
       " 'Fouls Won',\n",
       " 'Fouls Conceded',\n",
       " 'Offsides',\n",
       " 'Yellow Cards',\n",
       " 'Red Cards',\n",
       " 'Subs on',\n",
       " 'Subs off',\n",
       " 'Players Used']"
      ]
     },
     "execution_count": 10,
     "metadata": {},
     "output_type": "execute_result"
    }
   ],
   "source": [
    "euro12.columns"
   ]
  },
  {
   "cell_type": "markdown",
   "metadata": {},
   "source": [
    "### Step 4. Select only the Goal column."
   ]
  },
  {
   "cell_type": "code",
   "execution_count": 6,
   "metadata": {
    "collapsed": false,
    "jupyter": {
     "outputs_hidden": false
    }
   },
   "outputs": [
    {
     "name": "stdout",
     "output_type": "stream",
     "text": [
      "+-----+\n",
      "|Goals|\n",
      "+-----+\n",
      "|    4|\n",
      "|    4|\n",
      "|    4|\n",
      "|    5|\n",
      "|    3|\n",
      "|   10|\n",
      "|    5|\n",
      "|    6|\n",
      "|    2|\n",
      "|    2|\n",
      "|    6|\n",
      "|    1|\n",
      "|    5|\n",
      "|   12|\n",
      "|    5|\n",
      "|    2|\n",
      "+-----+\n",
      "\n"
     ]
    }
   ],
   "source": [
    "euro12.select(\"Goals\").show()"
   ]
  },
  {
   "cell_type": "markdown",
   "metadata": {},
   "source": [
    "### Step 5. How many team participated in the Euro2012?"
   ]
  },
  {
   "cell_type": "code",
   "execution_count": 11,
   "metadata": {
    "collapsed": false,
    "jupyter": {
     "outputs_hidden": false
    }
   },
   "outputs": [
    {
     "data": {
      "text/plain": [
       "16"
      ]
     },
     "execution_count": 11,
     "metadata": {},
     "output_type": "execute_result"
    }
   ],
   "source": [
    "euro12.count()"
   ]
  },
  {
   "cell_type": "markdown",
   "metadata": {},
   "source": [
    "### Step 6. What is the number of columns in the dataset?"
   ]
  },
  {
   "cell_type": "code",
   "execution_count": 12,
   "metadata": {
    "collapsed": false,
    "jupyter": {
     "outputs_hidden": false
    }
   },
   "outputs": [
    {
     "data": {
      "text/plain": [
       "35"
      ]
     },
     "execution_count": 12,
     "metadata": {},
     "output_type": "execute_result"
    }
   ],
   "source": [
    "len(euro12.columns)"
   ]
  },
  {
   "cell_type": "markdown",
   "metadata": {},
   "source": [
    "### Step 7. View only the columns Team, Yellow Cards and Red Cards and assign them to a dataframe called discipline"
   ]
  },
  {
   "cell_type": "code",
   "execution_count": 13,
   "metadata": {
    "collapsed": false,
    "jupyter": {
     "outputs_hidden": false
    }
   },
   "outputs": [],
   "source": [
    "discipline = euro12.select(\"Team\", \"Yellow Cards\", \"Red Cards\")"
   ]
  },
  {
   "cell_type": "code",
   "execution_count": 15,
   "metadata": {},
   "outputs": [
    {
     "name": "stdout",
     "output_type": "stream",
     "text": [
      "+--------------+------------+---------+\n",
      "|          Team|Yellow Cards|Red Cards|\n",
      "+--------------+------------+---------+\n",
      "|       Croatia|           9|        0|\n",
      "|Czech Republic|           7|        0|\n",
      "|       Denmark|           4|        0|\n",
      "|       England|           5|        0|\n",
      "|        France|           6|        0|\n",
      "|       Germany|           4|        0|\n",
      "|        Greece|           9|        1|\n",
      "|         Italy|          16|        0|\n",
      "|   Netherlands|           5|        0|\n",
      "|        Poland|           7|        1|\n",
      "+--------------+------------+---------+\n",
      "only showing top 10 rows\n",
      "\n"
     ]
    }
   ],
   "source": [
    "discipline.show(10)"
   ]
  },
  {
   "cell_type": "markdown",
   "metadata": {
    "tags": []
   },
   "source": [
    "### Step 8. Sort the teams by Red Cards, then to Yellow Cards"
   ]
  },
  {
   "cell_type": "code",
   "execution_count": 17,
   "metadata": {
    "collapsed": false,
    "jupyter": {
     "outputs_hidden": false
    },
    "scrolled": true
   },
   "outputs": [
    {
     "name": "stdout",
     "output_type": "stream",
     "text": [
      "+-------------------+------------+---------+\n",
      "|               Team|Yellow Cards|Red Cards|\n",
      "+-------------------+------------+---------+\n",
      "|             Greece|           9|        1|\n",
      "|             Poland|           7|        1|\n",
      "|Republic of Ireland|           6|        1|\n",
      "|              Italy|          16|        0|\n",
      "|           Portugal|          12|        0|\n",
      "|              Spain|          11|        0|\n",
      "|            Croatia|           9|        0|\n",
      "|     Czech Republic|           7|        0|\n",
      "|             Sweden|           7|        0|\n",
      "|             France|           6|        0|\n",
      "+-------------------+------------+---------+\n",
      "only showing top 10 rows\n",
      "\n"
     ]
    }
   ],
   "source": [
    "discipline.sort([\"Red Cards\", \"Yellow Cards\"], ascending=False).show(10)"
   ]
  },
  {
   "cell_type": "markdown",
   "metadata": {},
   "source": [
    "### Step 9. Calculate the mean Yellow Cards given per Team"
   ]
  },
  {
   "cell_type": "code",
   "execution_count": 33,
   "metadata": {
    "collapsed": false,
    "jupyter": {
     "outputs_hidden": false
    }
   },
   "outputs": [
    {
     "name": "stdout",
     "output_type": "stream",
     "text": [
      "+-------------------+-----------------+\n",
      "|               Team|avg(Yellow Cards)|\n",
      "+-------------------+-----------------+\n",
      "|             Russia|              6.0|\n",
      "|             Sweden|              7.0|\n",
      "|            Germany|              4.0|\n",
      "|             France|              6.0|\n",
      "|             Greece|              9.0|\n",
      "|            Croatia|              9.0|\n",
      "|              Italy|             16.0|\n",
      "|              Spain|             11.0|\n",
      "|            Denmark|              4.0|\n",
      "|            Ukraine|              5.0|\n",
      "|     Czech Republic|              7.0|\n",
      "|Republic of Ireland|              6.0|\n",
      "|            England|              5.0|\n",
      "|             Poland|              7.0|\n",
      "|           Portugal|             12.0|\n",
      "|        Netherlands|              5.0|\n",
      "+-------------------+-----------------+\n",
      "\n"
     ]
    }
   ],
   "source": [
    "discipline.select(\"Yellow Cards\", \"Team\").groupby(\"Team\").mean().show()"
   ]
  },
  {
   "cell_type": "markdown",
   "metadata": {},
   "source": [
    "### Step 10. Filter teams that scored more than 6 goals"
   ]
  },
  {
   "cell_type": "code",
   "execution_count": 34,
   "metadata": {
    "collapsed": false,
    "jupyter": {
     "outputs_hidden": false
    }
   },
   "outputs": [
    {
     "name": "stdout",
     "output_type": "stream",
     "text": [
      "+-------+\n",
      "|   Team|\n",
      "+-------+\n",
      "|Germany|\n",
      "|  Spain|\n",
      "+-------+\n",
      "\n"
     ]
    }
   ],
   "source": [
    "euro12.select(\"Team\").filter(\"Goals > 6\").show()"
   ]
  },
  {
   "cell_type": "markdown",
   "metadata": {},
   "source": [
    "### Step 11. Select the teams that start with G"
   ]
  },
  {
   "cell_type": "code",
   "execution_count": 37,
   "metadata": {
    "collapsed": false,
    "jupyter": {
     "outputs_hidden": false
    }
   },
   "outputs": [
    {
     "name": "stdout",
     "output_type": "stream",
     "text": [
      "+-------+\n",
      "|   Team|\n",
      "+-------+\n",
      "|Germany|\n",
      "| Greece|\n",
      "+-------+\n",
      "\n"
     ]
    }
   ],
   "source": [
    "euro12.select(\"Team\").filter(\"Team like 'G%'\").show(10)"
   ]
  },
  {
   "cell_type": "markdown",
   "metadata": {},
   "source": [
    "### Step 12. Select the first 7 columns"
   ]
  },
  {
   "cell_type": "code",
   "execution_count": 40,
   "metadata": {
    "collapsed": false,
    "jupyter": {
     "outputs_hidden": false
    }
   },
   "outputs": [
    {
     "name": "stdout",
     "output_type": "stream",
     "text": [
      "+--------------+-----+---------------+----------------+-----------------+----------------+--------------------------+------------+-------------+--------------------+------------+------+----------------+----------------+-------+-------+--------+-------------+-------+----------+-------------+-------------------+------------+------+--------------+----------+--------------------+---------+--------------+--------+------------+---------+-------+--------+------------+\n",
      "|          Team|Goals|Shots on target|Shots off target|Shooting Accuracy|% Goals-to-shots|Total shots (inc. Blocked)|Hit Woodwork|Penalty goals|Penalties not scored|Headed goals|Passes|Passes completed|Passing Accuracy|Touches|Crosses|Dribbles|Corners Taken|Tackles|Clearances|Interceptions|Clearances off line|Clean Sheets|Blocks|Goals conceded|Saves made|Saves-to-shots ratio|Fouls Won|Fouls Conceded|Offsides|Yellow Cards|Red Cards|Subs on|Subs off|Players Used|\n",
      "+--------------+-----+---------------+----------------+-----------------+----------------+--------------------------+------------+-------------+--------------------+------------+------+----------------+----------------+-------+-------+--------+-------------+-------+----------+-------------+-------------------+------------+------+--------------+----------+--------------------+---------+--------------+--------+------------+---------+-------+--------+------------+\n",
      "|       Croatia|    4|             13|              12|            51.9%|           16.0%|                        32|           0|            0|                   0|           2|  1076|             828|           76.9%|   1706|     60|      42|           14|     49|        83|           56|               null|           0|    10|             3|        13|               81.3%|       41|            62|       2|           9|        0|      9|       9|          16|\n",
      "|Czech Republic|    4|             13|              18|            41.9%|           12.9%|                        39|           0|            0|                   0|           0|  1565|            1223|           78.1%|   2358|     46|      68|           21|     62|        98|           37|                  2|           1|    10|             6|         9|               60.1%|       53|            73|       8|           7|        0|     11|      11|          19|\n",
      "|       Denmark|    4|             10|              10|            50.0%|           20.0%|                        27|           1|            0|                   0|           3|  1298|            1082|           83.3%|   1873|     43|      32|           16|     40|        61|           59|                  0|           1|    10|             5|        10|               66.7%|       25|            38|       8|           4|        0|      7|       7|          15|\n",
      "|       England|    5|             11|              18|            50.0%|           17.2%|                        40|           0|            0|                   0|           3|  1488|            1200|           80.6%|   2440|     58|      60|           16|     86|       106|           72|                  1|           2|    29|             3|        22|               88.1%|       43|            45|       6|           5|        0|     11|      11|          16|\n",
      "|        France|    3|             22|              24|            37.9%|            6.5%|                        65|           1|            0|                   0|           0|  2066|            1803|           87.2%|   2909|     55|      76|           28|     71|        76|           58|                  0|           1|     7|             5|         6|               54.6%|       36|            51|       5|           6|        0|     11|      11|          19|\n",
      "|       Germany|   10|             32|              32|            47.8%|           15.6%|                        80|           2|            1|                   0|           2|  2774|            2427|           87.4%|   3761|    101|      60|           35|     91|        73|           69|                  0|           1|    11|             6|        10|               62.6%|       63|            49|      12|           4|        0|     15|      15|          17|\n",
      "|        Greece|    5|              8|              18|            30.7%|           19.2%|                        32|           1|            1|                   1|           0|  1187|             911|           76.7%|   2016|     52|      53|           10|     65|       123|           87|                  0|           1|    23|             7|        13|               65.1%|       67|            48|      12|           9|        1|     12|      12|          20|\n",
      "+--------------+-----+---------------+----------------+-----------------+----------------+--------------------------+------------+-------------+--------------------+------------+------+----------------+----------------+-------+-------+--------+-------------+-------+----------+-------------+-------------------+------------+------+--------------+----------+--------------------+---------+--------------+--------+------------+---------+-------+--------+------------+\n",
      "only showing top 7 rows\n",
      "\n"
     ]
    }
   ],
   "source": [
    "euro12.show(7)"
   ]
  },
  {
   "cell_type": "markdown",
   "metadata": {},
   "source": [
    "### Step 13. Select all columns except the last 3."
   ]
  },
  {
   "cell_type": "code",
   "execution_count": 41,
   "metadata": {
    "collapsed": false,
    "jupyter": {
     "outputs_hidden": false
    }
   },
   "outputs": [
    {
     "data": {
      "text/plain": [
       "['Team',\n",
       " 'Goals',\n",
       " 'Shots on target',\n",
       " 'Shots off target',\n",
       " 'Shooting Accuracy',\n",
       " '% Goals-to-shots',\n",
       " 'Total shots (inc. Blocked)',\n",
       " 'Hit Woodwork',\n",
       " 'Penalty goals',\n",
       " 'Penalties not scored',\n",
       " 'Headed goals',\n",
       " 'Passes',\n",
       " 'Passes completed',\n",
       " 'Passing Accuracy',\n",
       " 'Touches',\n",
       " 'Crosses',\n",
       " 'Dribbles',\n",
       " 'Corners Taken',\n",
       " 'Tackles',\n",
       " 'Clearances',\n",
       " 'Interceptions',\n",
       " 'Clearances off line',\n",
       " 'Clean Sheets',\n",
       " 'Blocks',\n",
       " 'Goals conceded',\n",
       " 'Saves made',\n",
       " 'Saves-to-shots ratio',\n",
       " 'Fouls Won',\n",
       " 'Fouls Conceded',\n",
       " 'Offsides',\n",
       " 'Yellow Cards',\n",
       " 'Red Cards']"
      ]
     },
     "execution_count": 41,
     "metadata": {},
     "output_type": "execute_result"
    }
   ],
   "source": [
    "euro12.columns[0:len(euro12.columns) - 3]"
   ]
  },
  {
   "cell_type": "markdown",
   "metadata": {},
   "source": [
    "### Step 14. Present only the Shooting Accuracy from England, Italy and Russia"
   ]
  },
  {
   "cell_type": "code",
   "execution_count": 46,
   "metadata": {
    "collapsed": false,
    "jupyter": {
     "outputs_hidden": false
    }
   },
   "outputs": [
    {
     "name": "stdout",
     "output_type": "stream",
     "text": [
      "+-------+-----------------+\n",
      "|   Team|Shooting Accuracy|\n",
      "+-------+-----------------+\n",
      "|England|            50.0%|\n",
      "|  Italy|            43.0%|\n",
      "| Russia|            22.5%|\n",
      "+-------+-----------------+\n",
      "\n"
     ]
    }
   ],
   "source": [
    "euro12.select(\"Team\",\"Shooting Accuracy\").filter(\"Team ='England' OR Team='Italy' OR Team='Russia'\").show()"
   ]
  }
 ],
 "metadata": {
  "anaconda-cloud": {},
  "kernelspec": {
   "display_name": "Python 3 (ipykernel)",
   "language": "python",
   "name": "python3"
  },
  "language_info": {
   "codemirror_mode": {
    "name": "ipython",
    "version": 3
   },
   "file_extension": ".py",
   "mimetype": "text/x-python",
   "name": "python",
   "nbconvert_exporter": "python",
   "pygments_lexer": "ipython3",
   "version": "3.8.10"
  }
 },
 "nbformat": 4,
 "nbformat_minor": 4
}
