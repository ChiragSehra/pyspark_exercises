{
 "cells": [
  {
   "cell_type": "markdown",
   "metadata": {},
   "source": [
    "# Ex - GroupBy"
   ]
  },
  {
   "cell_type": "markdown",
   "metadata": {},
   "source": [
    "### Introduction:\n",
    "\n",
    "GroupBy can be summarized as Split-Apply-Combine.\n",
    "\n",
    "Special thanks to: https://github.com/justmarkham for sharing the dataset and materials.\n",
    "\n",
    "Check out this [Diagram](http://i.imgur.com/yjNkiwL.png)  \n",
    "### Step 1. Import the necessary libraries"
   ]
  },
  {
   "cell_type": "code",
   "execution_count": 2,
   "metadata": {},
   "outputs": [],
   "source": [
    "from pyspark.sql import SparkSession\n",
    "from pyspark.sql.functions import *\n",
    "import requests"
   ]
  },
  {
   "cell_type": "code",
   "execution_count": 3,
   "metadata": {},
   "outputs": [
    {
     "name": "stdout",
     "output_type": "stream",
     "text": [
      "22/09/07 15:09:17 WARN Utils: Your hostname, xkeyscore resolves to a loopback address: 127.0.1.1; using 192.168.1.8 instead (on interface wlp0s20f3)\n",
      "22/09/07 15:09:17 WARN Utils: Set SPARK_LOCAL_IP if you need to bind to another address\n"
     ]
    },
    {
     "name": "stderr",
     "output_type": "stream",
     "text": [
      "Setting default log level to \"WARN\".\n",
      "To adjust logging level use sc.setLogLevel(newLevel). For SparkR, use setLogLevel(newLevel).\n"
     ]
    },
    {
     "name": "stdout",
     "output_type": "stream",
     "text": [
      "22/09/07 15:09:17 WARN NativeCodeLoader: Unable to load native-hadoop library for your platform... using builtin-java classes where applicable\n"
     ]
    }
   ],
   "source": [
    "spark = SparkSession.builder.master(\"local[1]\").appName('drinks').getOrCreate()"
   ]
  },
  {
   "cell_type": "markdown",
   "metadata": {},
   "source": [
    "### Step 2. Import the dataset from this [address](https://raw.githubusercontent.com/justmarkham/DAT8/master/data/drinks.csv). "
   ]
  },
  {
   "cell_type": "code",
   "execution_count": 3,
   "metadata": {},
   "outputs": [],
   "source": [
    "url = \"https://raw.githubusercontent.com/justmarkham/DAT8/master/data/drinks.csv\"\n",
    "data_content = requests.get(url)\n",
    "with open(\"drinks.csv\", \"w\") as f:\n",
    "    f.write(data_content.text)"
   ]
  },
  {
   "cell_type": "markdown",
   "metadata": {},
   "source": [
    "### Step 3. Assign it to a variable called drinks."
   ]
  },
  {
   "cell_type": "code",
   "execution_count": 4,
   "metadata": {},
   "outputs": [],
   "source": [
    "drinks = spark.read.options(header=True, inferSchema=True).csv(\"drinks.csv\")"
   ]
  },
  {
   "cell_type": "code",
   "execution_count": 5,
   "metadata": {},
   "outputs": [
    {
     "data": {
      "text/plain": [
       "['country',\n",
       " 'beer_servings',\n",
       " 'spirit_servings',\n",
       " 'wine_servings',\n",
       " 'total_litres_of_pure_alcohol',\n",
       " 'continent']"
      ]
     },
     "execution_count": 5,
     "metadata": {},
     "output_type": "execute_result"
    }
   ],
   "source": [
    "drinks.columns"
   ]
  },
  {
   "cell_type": "code",
   "execution_count": 6,
   "metadata": {},
   "outputs": [
    {
     "name": "stdout",
     "output_type": "stream",
     "text": [
      "+-----------+-------------+---------------+-------------+----------------------------+---------+\n",
      "|    country|beer_servings|spirit_servings|wine_servings|total_litres_of_pure_alcohol|continent|\n",
      "+-----------+-------------+---------------+-------------+----------------------------+---------+\n",
      "|Afghanistan|            0|              0|            0|                         0.0|       AS|\n",
      "|    Albania|           89|            132|           54|                         4.9|       EU|\n",
      "|    Algeria|           25|              0|           14|                         0.7|       AF|\n",
      "|    Andorra|          245|            138|          312|                        12.4|       EU|\n",
      "|     Angola|          217|             57|           45|                         5.9|       AF|\n",
      "+-----------+-------------+---------------+-------------+----------------------------+---------+\n",
      "only showing top 5 rows\n",
      "\n"
     ]
    }
   ],
   "source": [
    "drinks.show(5)"
   ]
  },
  {
   "cell_type": "markdown",
   "metadata": {},
   "source": [
    "### Step 4. Which continent drinks more beer on average?"
   ]
  },
  {
   "cell_type": "code",
   "execution_count": 7,
   "metadata": {},
   "outputs": [
    {
     "name": "stdout",
     "output_type": "stream",
     "text": [
      "+---------+------------------+\n",
      "|continent|avg(beer_servings)|\n",
      "+---------+------------------+\n",
      "|       NA|145.43478260869566|\n",
      "|       SA|175.08333333333334|\n",
      "|       AS| 37.04545454545455|\n",
      "|       OC|           89.6875|\n",
      "|       EU|193.77777777777777|\n",
      "|       AF|61.471698113207545|\n",
      "+---------+------------------+\n",
      "\n"
     ]
    }
   ],
   "source": [
    "drinks.select(\"continent\", \"beer_servings\").groupBy(\"continent\").avg().show()"
   ]
  },
  {
   "cell_type": "markdown",
   "metadata": {},
   "source": [
    "### Step 5. For each continent print the statistics for wine consumption."
   ]
  },
  {
   "cell_type": "code",
   "execution_count": 8,
   "metadata": {},
   "outputs": [],
   "source": [
    "# there is no direct method of calculating summary per country. We could work on creating multiple aggregations using the .agg() function"
   ]
  },
  {
   "cell_type": "code",
   "execution_count": 9,
   "metadata": {},
   "outputs": [
    {
     "name": "stdout",
     "output_type": "stream",
     "text": [
      "+-------+-----------+------------------+-----------------+-----------------+----------------------------+---------+\n",
      "|summary|    country|     beer_servings|  spirit_servings|    wine_servings|total_litres_of_pure_alcohol|continent|\n",
      "+-------+-----------+------------------+-----------------+-----------------+----------------------------+---------+\n",
      "|  count|        193|               193|              193|              193|                         193|      193|\n",
      "|   mean|       null|106.16062176165804|80.99481865284974|49.45077720207254|           4.717098445595855|     null|\n",
      "| stddev|       null| 101.1431025393134|88.28431210968618|79.69759845763012|           3.773298164356082|     null|\n",
      "|    min|Afghanistan|                 0|                0|                0|                         0.0|       AF|\n",
      "|    25%|       null|                20|                4|                1|                         1.3|     null|\n",
      "|    50%|       null|                76|               56|                8|                         4.2|     null|\n",
      "|    75%|       null|               188|              128|               59|                         7.2|     null|\n",
      "|    max|   Zimbabwe|               376|              438|              370|                        14.4|       SA|\n",
      "+-------+-----------+------------------+-----------------+-----------------+----------------------------+---------+\n",
      "\n"
     ]
    }
   ],
   "source": [
    "drinks.summary().show()"
   ]
  },
  {
   "cell_type": "code",
   "execution_count": 16,
   "metadata": {},
   "outputs": [
    {
     "name": "stdout",
     "output_type": "stream",
     "text": [
      "+---------+------------------+--------------------+------------------+---------------------------------+------------------+--------------------+------------------+---------------------------------+------------------+--------------------+------------------+---------------------------------+\n",
      "|continent|avg(beer_servings)|avg(spirit_servings)|avg(wine_servings)|avg(total_litres_of_pure_alcohol)|min(beer_servings)|min(spirit_servings)|min(wine_servings)|min(total_litres_of_pure_alcohol)|max(beer_servings)|max(spirit_servings)|max(wine_servings)|max(total_litres_of_pure_alcohol)|\n",
      "+---------+------------------+--------------------+------------------+---------------------------------+------------------+--------------------+------------------+---------------------------------+------------------+--------------------+------------------+---------------------------------+\n",
      "|       NA|145.43478260869566|   165.7391304347826| 24.52173913043478|                5.995652173913044|                 1|                  68|                 1|                              2.2|               285|                 438|               100|                             11.9|\n",
      "|       SA|175.08333333333334|              114.75|62.416666666666664|                6.308333333333334|                93|                  25|                 1|                              3.8|               333|                 302|               221|                              8.3|\n",
      "|       AS| 37.04545454545455|   60.84090909090909| 9.068181818181818|               2.1704545454545454|                 0|                   0|                 0|                              0.0|               247|                 326|               123|                             11.5|\n",
      "|       OC|           89.6875|             58.4375|            35.625|               3.3812500000000005|                 0|                   0|                 0|                              0.0|               306|                 254|               212|                             10.4|\n",
      "|       EU|193.77777777777777|  132.55555555555554|142.22222222222223|                8.617777777777777|                 0|                   0|                 0|                              0.0|               361|                 373|               370|                             14.4|\n",
      "|       AF|61.471698113207545|  16.339622641509433|16.264150943396228|                 3.00754716981132|                 0|                   0|                 0|                              0.0|               376|                 152|               233|                              9.1|\n",
      "+---------+------------------+--------------------+------------------+---------------------------------+------------------+--------------------+------------------+---------------------------------+------------------+--------------------+------------------+---------------------------------+\n",
      "\n"
     ]
    }
   ],
   "source": [
    "drinks.select(\"*\").groupby(\"continent\")\\\n",
    "            .agg(\n",
    "                    avg(\"beer_servings\"),avg(\"spirit_servings\"), avg(\"wine_servings\"), avg(\"total_litres_of_pure_alcohol\"), \n",
    "                    min(\"beer_servings\"),min(\"spirit_servings\"), min(\"wine_servings\"), min(\"total_litres_of_pure_alcohol\"),\n",
    "                    max(\"beer_servings\"),max(\"spirit_servings\"), max(\"wine_servings\"), max(\"total_litres_of_pure_alcohol\"),\n",
    ").show()"
   ]
  },
  {
   "cell_type": "markdown",
   "metadata": {},
   "source": [
    "### Step 6. Print the mean alcohol consumption per continent for every column"
   ]
  },
  {
   "cell_type": "code",
   "execution_count": 23,
   "metadata": {},
   "outputs": [
    {
     "name": "stdout",
     "output_type": "stream",
     "text": [
      "+---------+----------------------------+------------------+------------------+------------------+\n",
      "|continent|total_litres_of_pure_alcohol|     beer_servings|   spirit_servings|     wine_servings|\n",
      "+---------+----------------------------+------------------+------------------+------------------+\n",
      "|       NA|           5.995652173913044|145.43478260869566| 165.7391304347826| 24.52173913043478|\n",
      "|       SA|           6.308333333333334|175.08333333333334|            114.75|62.416666666666664|\n",
      "|       AS|          2.1704545454545454| 37.04545454545455| 60.84090909090909| 9.068181818181818|\n",
      "|       OC|          3.3812500000000005|           89.6875|           58.4375|            35.625|\n",
      "|       EU|           8.617777777777777|193.77777777777777|132.55555555555554|142.22222222222223|\n",
      "|       AF|            3.00754716981132|61.471698113207545|16.339622641509433|16.264150943396228|\n",
      "+---------+----------------------------+------------------+------------------+------------------+\n",
      "\n"
     ]
    }
   ],
   "source": [
    "drinks.groupby(\"continent\").agg(\n",
    "    mean(\"total_litres_of_pure_alcohol\").alias(\"total_litres_of_pure_alcohol\"),\n",
    "    mean(\"beer_servings\").alias(\"beer_servings\"),\n",
    "    mean(\"spirit_servings\").alias(\"spirit_servings\"),\n",
    "    mean(\"wine_servings\").alias(\"wine_servings\")\n",
    ").show(10)"
   ]
  },
  {
   "cell_type": "markdown",
   "metadata": {},
   "source": [
    "### Step 7. Print the median alcohol consumption per continent for every column"
   ]
  },
  {
   "cell_type": "code",
   "execution_count": 27,
   "metadata": {},
   "outputs": [
    {
     "name": "stdout",
     "output_type": "stream",
     "text": [
      "+---------+----------------------------+-------------+---------------+-------------+\n",
      "|continent|total_litres_of_pure_alcohol|beer_servings|spirit_servings|wine_servings|\n",
      "+---------+----------------------------+-------------+---------------+-------------+\n",
      "|       NA|                         6.3|          143|            137|           11|\n",
      "|       SA|                         6.6|          162|            100|            8|\n",
      "|       AS|                         1.0|           16|             16|            1|\n",
      "|       OC|                         1.5|           49|             35|            8|\n",
      "|       EU|                        10.0|          219|            122|          128|\n",
      "|       AF|                         2.3|           32|              3|            2|\n",
      "+---------+----------------------------+-------------+---------------+-------------+\n",
      "\n"
     ]
    }
   ],
   "source": [
    "drinks.groupby(\"continent\").agg(\n",
    "    percentile_approx(\"total_litres_of_pure_alcohol\",0.5).alias(\"total_litres_of_pure_alcohol\"),\n",
    "    percentile_approx(\"beer_servings\",0.5).alias(\"beer_servings\"),\n",
    "    percentile_approx(\"spirit_servings\",0.5).alias(\"spirit_servings\"),\n",
    "    percentile_approx(\"wine_servings\",0.5).alias(\"wine_servings\")\n",
    ").show(10)"
   ]
  },
  {
   "cell_type": "markdown",
   "metadata": {},
   "source": [
    "### Step 8. Print the mean, min and max values for spirit consumption.\n",
    "#### This time output a DataFrame"
   ]
  },
  {
   "cell_type": "code",
   "execution_count": 29,
   "metadata": {},
   "outputs": [
    {
     "name": "stdout",
     "output_type": "stream",
     "text": [
      "+---------+---------------------------------+--------------------------------+-------------------------------------+\n",
      "|continent|mean_total_litres_of_pure_alcohol|min_total_litres_of_pure_alcohol|max_mean_total_litres_of_pure_alcohol|\n",
      "+---------+---------------------------------+--------------------------------+-------------------------------------+\n",
      "|       NA|                5.995652173913044|                             2.2|                                 11.9|\n",
      "|       SA|                6.308333333333334|                             3.8|                                  8.3|\n",
      "|       AS|               2.1704545454545454|                             0.0|                                 11.5|\n",
      "|       OC|               3.3812500000000005|                             0.0|                                 10.4|\n",
      "|       EU|                8.617777777777777|                             0.0|                                 14.4|\n",
      "|       AF|                 3.00754716981132|                             0.0|                                  9.1|\n",
      "+---------+---------------------------------+--------------------------------+-------------------------------------+\n",
      "\n"
     ]
    }
   ],
   "source": [
    "drinks.groupby(\"continent\").agg(\n",
    "    mean(\"total_litres_of_pure_alcohol\").alias(\"mean_total_litres_of_pure_alcohol\"),\n",
    "    min(\"total_litres_of_pure_alcohol\").alias(\"min_total_litres_of_pure_alcohol\"),\n",
    "    max(\"total_litres_of_pure_alcohol\").alias(\"max_mean_total_litres_of_pure_alcohol\"),\n",
    "    \n",
    ").show(10)"
   ]
  }
 ],
 "metadata": {
  "kernelspec": {
   "display_name": "Python 3 (ipykernel)",
   "language": "python",
   "name": "python3"
  },
  "language_info": {
   "codemirror_mode": {
    "name": "ipython",
    "version": 3
   },
   "file_extension": ".py",
   "mimetype": "text/x-python",
   "name": "python",
   "nbconvert_exporter": "python",
   "pygments_lexer": "ipython3",
   "version": "3.8.10"
  }
 },
 "nbformat": 4,
 "nbformat_minor": 4
}
