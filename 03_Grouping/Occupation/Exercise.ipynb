{
 "cells": [
  {
   "cell_type": "markdown",
   "metadata": {},
   "source": [
    "# Occupation"
   ]
  },
  {
   "cell_type": "markdown",
   "metadata": {},
   "source": [
    "### Introduction:\n",
    "\n",
    "Special thanks to: https://github.com/justmarkham for sharing the dataset and materials.\n",
    "\n",
    "### Step 1. Import the necessary libraries"
   ]
  },
  {
   "cell_type": "code",
   "execution_count": 1,
   "metadata": {
    "collapsed": false,
    "jupyter": {
     "outputs_hidden": false
    }
   },
   "outputs": [],
   "source": [
    "from pyspark.sql import SparkSession\n",
    "from pyspark.sql.functions import *\n",
    "import requests"
   ]
  },
  {
   "cell_type": "code",
   "execution_count": 4,
   "metadata": {},
   "outputs": [
    {
     "name": "stdout",
     "output_type": "stream",
     "text": [
      "22/09/07 23:25:37 WARN Utils: Your hostname, xkeyscore resolves to a loopback address: 127.0.1.1; using 192.168.1.8 instead (on interface wlp0s20f3)\n",
      "22/09/07 23:25:37 WARN Utils: Set SPARK_LOCAL_IP if you need to bind to another address\n"
     ]
    },
    {
     "name": "stderr",
     "output_type": "stream",
     "text": [
      "Setting default log level to \"WARN\".\n",
      "To adjust logging level use sc.setLogLevel(newLevel). For SparkR, use setLogLevel(newLevel).\n"
     ]
    },
    {
     "name": "stdout",
     "output_type": "stream",
     "text": [
      "22/09/07 23:25:37 WARN NativeCodeLoader: Unable to load native-hadoop library for your platform... using builtin-java classes where applicable\n",
      "22/09/07 23:25:38 WARN Utils: Service 'SparkUI' could not bind on port 4040. Attempting port 4041.\n"
     ]
    }
   ],
   "source": [
    "spark = SparkSession.builder.master(\"local[1]\").appName(\"user\").getOrCreate()"
   ]
  },
  {
   "cell_type": "markdown",
   "metadata": {},
   "source": [
    "### Step 2. Import the dataset from this [address](https://raw.githubusercontent.com/justmarkham/DAT8/master/data/u.user). "
   ]
  },
  {
   "cell_type": "code",
   "execution_count": 2,
   "metadata": {},
   "outputs": [],
   "source": [
    "url = \"https://raw.githubusercontent.com/justmarkham/DAT8/master/data/u.user\"\n",
    "data_content = requests.get(url)\n",
    "\n",
    "with open(\"user.csv\",\"w\") as f:\n",
    "    f.write(data_content.text)"
   ]
  },
  {
   "cell_type": "markdown",
   "metadata": {},
   "source": [
    "### Step 3. Assign it to a variable called users."
   ]
  },
  {
   "cell_type": "code",
   "execution_count": 5,
   "metadata": {
    "collapsed": false,
    "jupyter": {
     "outputs_hidden": false
    }
   },
   "outputs": [],
   "source": [
    "users = spark.read.options(header=True, inferSchema=True, delimiter=\"|\").csv(\"user.csv\")"
   ]
  },
  {
   "cell_type": "code",
   "execution_count": 6,
   "metadata": {},
   "outputs": [
    {
     "name": "stdout",
     "output_type": "stream",
     "text": [
      "+-------+---+------+----------+--------+\n",
      "|user_id|age|gender|occupation|zip_code|\n",
      "+-------+---+------+----------+--------+\n",
      "|      1| 24|     M|technician|   85711|\n",
      "|      2| 53|     F|     other|   94043|\n",
      "|      3| 23|     M|    writer|   32067|\n",
      "|      4| 24|     M|technician|   43537|\n",
      "|      5| 33|     F|     other|   15213|\n",
      "+-------+---+------+----------+--------+\n",
      "only showing top 5 rows\n",
      "\n"
     ]
    }
   ],
   "source": [
    "users.show(5)"
   ]
  },
  {
   "cell_type": "code",
   "execution_count": 7,
   "metadata": {},
   "outputs": [
    {
     "name": "stdout",
     "output_type": "stream",
     "text": [
      "root\n",
      " |-- user_id: integer (nullable = true)\n",
      " |-- age: integer (nullable = true)\n",
      " |-- gender: string (nullable = true)\n",
      " |-- occupation: string (nullable = true)\n",
      " |-- zip_code: string (nullable = true)\n",
      "\n"
     ]
    }
   ],
   "source": [
    "users.printSchema()"
   ]
  },
  {
   "cell_type": "markdown",
   "metadata": {},
   "source": [
    "### Step 4. Discover what is the mean age per occupation"
   ]
  },
  {
   "cell_type": "code",
   "execution_count": 9,
   "metadata": {
    "collapsed": false,
    "jupyter": {
     "outputs_hidden": false
    }
   },
   "outputs": [
    {
     "name": "stdout",
     "output_type": "stream",
     "text": [
      "+-------------+------------------+\n",
      "|   occupation|          avg(age)|\n",
      "+-------------+------------------+\n",
      "|    librarian|              40.0|\n",
      "|      retired| 63.07142857142857|\n",
      "|       lawyer|             36.75|\n",
      "|         none|26.555555555555557|\n",
      "|       writer| 36.31111111111111|\n",
      "|   programmer|33.121212121212125|\n",
      "|    marketing| 37.61538461538461|\n",
      "|        other|34.523809523809526|\n",
      "|    executive|          38.71875|\n",
      "|    scientist| 35.54838709677419|\n",
      "|      student|22.081632653061224|\n",
      "|     salesman|35.666666666666664|\n",
      "|       artist|31.392857142857142|\n",
      "|   technician|33.148148148148145|\n",
      "|administrator| 38.74683544303797|\n",
      "|     engineer| 36.38805970149254|\n",
      "|   healthcare|           41.5625|\n",
      "|     educator| 42.01052631578948|\n",
      "|entertainment| 29.22222222222222|\n",
      "|    homemaker| 32.57142857142857|\n",
      "|       doctor| 43.57142857142857|\n",
      "+-------------+------------------+\n",
      "\n"
     ]
    }
   ],
   "source": [
    "users.select(\"age\", \"occupation\").groupby(\"occupation\").mean().show(100)"
   ]
  },
  {
   "cell_type": "markdown",
   "metadata": {},
   "source": [
    "### Step 5. Discover the Male ratio per occupation and sort it from the most to the least"
   ]
  },
  {
   "cell_type": "code",
   "execution_count": 45,
   "metadata": {
    "collapsed": false,
    "jupyter": {
     "outputs_hidden": false
    }
   },
   "outputs": [],
   "source": [
    "total_count = users.groupBy(\"occupation\").count()"
   ]
  },
  {
   "cell_type": "code",
   "execution_count": 46,
   "metadata": {},
   "outputs": [],
   "source": [
    "occup_count = users.groupBy(\"occupation\", \"gender\").agg(\n",
    "    count(\"occupation\").alias(\"occup_CNT\")\n",
    ")"
   ]
  },
  {
   "cell_type": "code",
   "execution_count": 29,
   "metadata": {},
   "outputs": [
    {
     "name": "stdout",
     "output_type": "stream",
     "text": [
      "+----------+------+---------+----------+-----+\n",
      "|occupation|gender|occup_CNT|occupation|count|\n",
      "+----------+------+---------+----------+-----+\n",
      "| librarian|     F|       29| librarian|   51|\n",
      "| librarian|     M|       22| librarian|   51|\n",
      "|   retired|     M|       13|   retired|   14|\n",
      "|   retired|     F|        1|   retired|   14|\n",
      "|    lawyer|     M|       10|    lawyer|   12|\n",
      "|    lawyer|     F|        2|    lawyer|   12|\n",
      "|      none|     M|        5|      none|    9|\n",
      "|      none|     F|        4|      none|    9|\n",
      "|    writer|     M|       26|    writer|   45|\n",
      "|    writer|     F|       19|    writer|   45|\n",
      "|programmer|     F|        6|programmer|   66|\n",
      "|programmer|     M|       60|programmer|   66|\n",
      "| marketing|     F|       10| marketing|   26|\n",
      "| marketing|     M|       16| marketing|   26|\n",
      "|     other|     M|       69|     other|  105|\n",
      "|     other|     F|       36|     other|  105|\n",
      "| executive|     F|        3| executive|   32|\n",
      "| executive|     M|       29| executive|   32|\n",
      "| scientist|     F|        3| scientist|   31|\n",
      "| scientist|     M|       28| scientist|   31|\n",
      "+----------+------+---------+----------+-----+\n",
      "only showing top 20 rows\n",
      "\n"
     ]
    }
   ],
   "source": [
    "final_df = occup_count.join(total_count, occup_count.occupation==total_count.occupation)\n",
    "final_df.show()"
   ]
  },
  {
   "cell_type": "code",
   "execution_count": 39,
   "metadata": {},
   "outputs": [],
   "source": [
    "final_df = final_df.withColumn(\"ratio\", 100*col(\"occup_CNT\")/col(\"count\"))"
   ]
  },
  {
   "cell_type": "code",
   "execution_count": 44,
   "metadata": {},
   "outputs": [
    {
     "name": "stdout",
     "output_type": "stream",
     "text": [
      "+-------------+------+---------+-------------+-----+-----------------+\n",
      "|   occupation|gender|occup_CNT|   occupation|count|            ratio|\n",
      "+-------------+------+---------+-------------+-----+-----------------+\n",
      "|       doctor|     M|        7|       doctor|    7|            100.0|\n",
      "|     engineer|     M|       65|     engineer|   67|97.01492537313433|\n",
      "|   technician|     M|       26|   technician|   27|96.29629629629629|\n",
      "|      retired|     M|       13|      retired|   14|92.85714285714286|\n",
      "|   programmer|     M|       60|   programmer|   66| 90.9090909090909|\n",
      "|    executive|     M|       29|    executive|   32|           90.625|\n",
      "|    scientist|     M|       28|    scientist|   31| 90.3225806451613|\n",
      "|entertainment|     M|       16|entertainment|   18|88.88888888888889|\n",
      "|       lawyer|     M|       10|       lawyer|   12|83.33333333333333|\n",
      "|     salesman|     M|        9|     salesman|   12|             75.0|\n",
      "|     educator|     M|       69|     educator|   95|72.63157894736842|\n",
      "|      student|     M|      136|      student|  196|69.38775510204081|\n",
      "|        other|     M|       69|        other|  105|65.71428571428571|\n",
      "|    marketing|     M|       16|    marketing|   26|61.53846153846154|\n",
      "|       writer|     M|       26|       writer|   45|57.77777777777778|\n",
      "|         none|     M|        5|         none|    9|55.55555555555556|\n",
      "|administrator|     M|       43|administrator|   79|54.43037974683544|\n",
      "|       artist|     M|       15|       artist|   28|53.57142857142857|\n",
      "|    librarian|     M|       22|    librarian|   51|43.13725490196079|\n",
      "|   healthcare|     M|        5|   healthcare|   16|            31.25|\n",
      "+-------------+------+---------+-------------+-----+-----------------+\n",
      "only showing top 20 rows\n",
      "\n"
     ]
    }
   ],
   "source": [
    "final_df.select(\"*\").filter(\"gender=='M'\").sort(desc(\"ratio\")).show()"
   ]
  },
  {
   "cell_type": "markdown",
   "metadata": {},
   "source": [
    "### Step 6. For each occupation, calculate the minimum and maximum ages"
   ]
  },
  {
   "cell_type": "code",
   "execution_count": 51,
   "metadata": {
    "collapsed": false,
    "jupyter": {
     "outputs_hidden": false
    }
   },
   "outputs": [
    {
     "name": "stdout",
     "output_type": "stream",
     "text": [
      "+-------------+-------+-------+\n",
      "|   occupation|MIN AGE|MAX_AGE|\n",
      "+-------------+-------+-------+\n",
      "|    librarian|     23|     69|\n",
      "|      retired|     51|     73|\n",
      "|       lawyer|     21|     53|\n",
      "|         none|     11|     55|\n",
      "|       writer|     18|     60|\n",
      "|   programmer|     20|     63|\n",
      "|    marketing|     24|     55|\n",
      "|        other|     13|     64|\n",
      "|    executive|     22|     69|\n",
      "|    scientist|     23|     55|\n",
      "|      student|      7|     42|\n",
      "|     salesman|     18|     66|\n",
      "|       artist|     19|     48|\n",
      "|   technician|     21|     55|\n",
      "|administrator|     21|     70|\n",
      "|     engineer|     22|     70|\n",
      "|   healthcare|     22|     62|\n",
      "|     educator|     23|     63|\n",
      "|entertainment|     15|     50|\n",
      "|    homemaker|     20|     50|\n",
      "+-------------+-------+-------+\n",
      "only showing top 20 rows\n",
      "\n"
     ]
    }
   ],
   "source": [
    "users.select(\"occupation\",\"age\").groupby(\"occupation\").agg(\n",
    "    min(\"age\").alias(\"MIN AGE\"), max(\"age\").alias(\"MAX_AGE\")\n",
    ").show()"
   ]
  },
  {
   "cell_type": "markdown",
   "metadata": {},
   "source": [
    "### Step 7. For each combination of occupation and gender, calculate the mean age"
   ]
  },
  {
   "cell_type": "code",
   "execution_count": 52,
   "metadata": {
    "collapsed": false,
    "jupyter": {
     "outputs_hidden": false
    }
   },
   "outputs": [
    {
     "name": "stdout",
     "output_type": "stream",
     "text": [
      "+-------------+------+------------------+\n",
      "|   occupation|gender|          avg(age)|\n",
      "+-------------+------+------------------+\n",
      "|   technician|     M| 32.96153846153846|\n",
      "|     educator|     F| 39.11538461538461|\n",
      "|       lawyer|     F|              39.5|\n",
      "|entertainment|     F|              31.0|\n",
      "|       lawyer|     M|              36.2|\n",
      "|      retired|     F|              70.0|\n",
      "|      student|     F|             20.75|\n",
      "|   healthcare|     F| 39.81818181818182|\n",
      "|administrator|     M| 37.16279069767442|\n",
      "|    marketing|     M|            37.875|\n",
      "|     engineer|     F|              29.5|\n",
      "|    homemaker|     F|34.166666666666664|\n",
      "|       artist|     F|30.307692307692307|\n",
      "|         none|     F|              36.5|\n",
      "|       doctor|     M| 43.57142857142857|\n",
      "|       writer|     F| 37.63157894736842|\n",
      "|     educator|     M| 43.10144927536232|\n",
      "|    scientist|     M| 36.32142857142857|\n",
      "|   technician|     F|              38.0|\n",
      "|       writer|     M| 35.34615384615385|\n",
      "+-------------+------+------------------+\n",
      "only showing top 20 rows\n",
      "\n"
     ]
    }
   ],
   "source": [
    "users.select(\"occupation\",\"gender\",\"age\").groupby(\"occupation\",\"gender\").mean().show()"
   ]
  },
  {
   "cell_type": "markdown",
   "metadata": {},
   "source": [
    "### Step 8.  For each occupation present the percentage of women and men"
   ]
  },
  {
   "cell_type": "code",
   "execution_count": 53,
   "metadata": {
    "collapsed": false,
    "jupyter": {
     "outputs_hidden": false
    }
   },
   "outputs": [
    {
     "name": "stdout",
     "output_type": "stream",
     "text": [
      "+----------+------+---------+----------+-----+------------------+\n",
      "|occupation|gender|occup_CNT|occupation|count|             ratio|\n",
      "+----------+------+---------+----------+-----+------------------+\n",
      "| librarian|     F|       29| librarian|   51| 56.86274509803921|\n",
      "| librarian|     M|       22| librarian|   51| 43.13725490196079|\n",
      "|   retired|     M|       13|   retired|   14| 92.85714285714286|\n",
      "|   retired|     F|        1|   retired|   14| 7.142857142857143|\n",
      "|    lawyer|     M|       10|    lawyer|   12| 83.33333333333333|\n",
      "|    lawyer|     F|        2|    lawyer|   12|16.666666666666668|\n",
      "|      none|     M|        5|      none|    9| 55.55555555555556|\n",
      "|      none|     F|        4|      none|    9| 44.44444444444444|\n",
      "|    writer|     M|       26|    writer|   45| 57.77777777777778|\n",
      "|    writer|     F|       19|    writer|   45| 42.22222222222222|\n",
      "|programmer|     F|        6|programmer|   66| 9.090909090909092|\n",
      "|programmer|     M|       60|programmer|   66|  90.9090909090909|\n",
      "| marketing|     F|       10| marketing|   26| 38.46153846153846|\n",
      "| marketing|     M|       16| marketing|   26| 61.53846153846154|\n",
      "|     other|     M|       69|     other|  105| 65.71428571428571|\n",
      "|     other|     F|       36|     other|  105|34.285714285714285|\n",
      "| executive|     F|        3| executive|   32|             9.375|\n",
      "| executive|     M|       29| executive|   32|            90.625|\n",
      "| scientist|     F|        3| scientist|   31|  9.67741935483871|\n",
      "| scientist|     M|       28| scientist|   31|  90.3225806451613|\n",
      "+----------+------+---------+----------+-----+------------------+\n",
      "only showing top 20 rows\n",
      "\n"
     ]
    }
   ],
   "source": [
    "final_df.show()"
   ]
  },
  {
   "cell_type": "code",
   "execution_count": null,
   "metadata": {},
   "outputs": [],
   "source": []
  }
 ],
 "metadata": {
  "kernelspec": {
   "display_name": "Python 3 (ipykernel)",
   "language": "python",
   "name": "python3"
  },
  "language_info": {
   "codemirror_mode": {
    "name": "ipython",
    "version": 3
   },
   "file_extension": ".py",
   "mimetype": "text/x-python",
   "name": "python",
   "nbconvert_exporter": "python",
   "pygments_lexer": "ipython3",
   "version": "3.8.10"
  }
 },
 "nbformat": 4,
 "nbformat_minor": 4
}
