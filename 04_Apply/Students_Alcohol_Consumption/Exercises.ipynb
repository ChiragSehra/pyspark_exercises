{
 "cells": [
  {
   "cell_type": "markdown",
   "metadata": {},
   "source": [
    "# Student Alcohol Consumption"
   ]
  },
  {
   "cell_type": "markdown",
   "metadata": {},
   "source": [
    "### Introduction:\n",
    "\n",
    "This time you will download a dataset from the UCI.\n",
    "\n",
    "### Step 1. Import the necessary libraries"
   ]
  },
  {
   "cell_type": "code",
   "execution_count": 21,
   "metadata": {
    "collapsed": false,
    "jupyter": {
     "outputs_hidden": false
    }
   },
   "outputs": [],
   "source": [
    "from pyspark.sql import SparkSession\n",
    "from pyspark.sql.functions import *\n",
    "import requests\n",
    "from pyspark.sql.types import BooleanType"
   ]
  },
  {
   "cell_type": "code",
   "execution_count": 2,
   "metadata": {},
   "outputs": [
    {
     "name": "stdout",
     "output_type": "stream",
     "text": [
      "22/09/13 14:14:16 WARN Utils: Your hostname, xkeyscore resolves to a loopback address: 127.0.1.1; using 192.168.1.8 instead (on interface wlp0s20f3)\n",
      "22/09/13 14:14:16 WARN Utils: Set SPARK_LOCAL_IP if you need to bind to another address\n"
     ]
    },
    {
     "name": "stderr",
     "output_type": "stream",
     "text": [
      "Setting default log level to \"WARN\".\n",
      "To adjust logging level use sc.setLogLevel(newLevel). For SparkR, use setLogLevel(newLevel).\n"
     ]
    },
    {
     "name": "stdout",
     "output_type": "stream",
     "text": [
      "22/09/13 14:14:16 WARN NativeCodeLoader: Unable to load native-hadoop library for your platform... using builtin-java classes where applicable\n"
     ]
    }
   ],
   "source": [
    "spark = SparkSession.builder.master(\"local[1]\").appName('alchol').getOrCreate()"
   ]
  },
  {
   "cell_type": "markdown",
   "metadata": {},
   "source": [
    "### Step 2. Import the dataset from this [address](https://raw.githubusercontent.com/guipsamora/pandas_exercises/master/04_Apply/Students_Alcohol_Consumption/student-mat.csv)."
   ]
  },
  {
   "cell_type": "code",
   "execution_count": 2,
   "metadata": {
    "slideshow": {
     "slide_type": "skip"
    },
    "tags": []
   },
   "outputs": [],
   "source": [
    "url = \"https://raw.githubusercontent.com/guipsamora/pandas_exercises/master/04_Apply/Students_Alcohol_Consumption/student-mat.csv\"\n",
    "data_content = requests.get(url)\n",
    "\n",
    "with open(\"student_mat.csv\",\"w\") as f:\n",
    "    f.write(data_content.text)"
   ]
  },
  {
   "cell_type": "markdown",
   "metadata": {},
   "source": [
    "### Step 3. Assign it to a variable called df."
   ]
  },
  {
   "cell_type": "code",
   "execution_count": 3,
   "metadata": {
    "collapsed": false,
    "jupyter": {
     "outputs_hidden": false
    }
   },
   "outputs": [
    {
     "data": {
      "text/plain": [
       "['school',\n",
       " 'sex',\n",
       " 'age',\n",
       " 'address',\n",
       " 'famsize',\n",
       " 'Pstatus',\n",
       " 'Medu',\n",
       " 'Fedu',\n",
       " 'Mjob',\n",
       " 'Fjob',\n",
       " 'reason',\n",
       " 'guardian',\n",
       " 'traveltime',\n",
       " 'studytime',\n",
       " 'failures',\n",
       " 'schoolsup',\n",
       " 'famsup',\n",
       " 'paid',\n",
       " 'activities',\n",
       " 'nursery',\n",
       " 'higher',\n",
       " 'internet',\n",
       " 'romantic',\n",
       " 'famrel',\n",
       " 'freetime',\n",
       " 'goout',\n",
       " 'Dalc',\n",
       " 'Walc',\n",
       " 'health',\n",
       " 'absences',\n",
       " 'G1',\n",
       " 'G2',\n",
       " 'G3']"
      ]
     },
     "execution_count": 3,
     "metadata": {},
     "output_type": "execute_result"
    }
   ],
   "source": [
    "df = spark.read.options(header=True, inferSchema=True).csv(\"student_mat.csv\")\n",
    "df.columns"
   ]
  },
  {
   "cell_type": "markdown",
   "metadata": {},
   "source": [
    "### Step 4. For the purpose of this exercise slice the dataframe from 'school' until the 'guardian' column"
   ]
  },
  {
   "cell_type": "markdown",
   "metadata": {},
   "source": [
    "### Step 5. Create a lambda function that will capitalize strings."
   ]
  },
  {
   "cell_type": "code",
   "execution_count": 38,
   "metadata": {
    "collapsed": false,
    "jupyter": {
     "outputs_hidden": false
    }
   },
   "outputs": [],
   "source": [
    "capatalizer = udf(lambda x: x.capitalize())"
   ]
  },
  {
   "cell_type": "markdown",
   "metadata": {},
   "source": [
    "### Step 6. Capitalize both Mjob and Fjob"
   ]
  },
  {
   "cell_type": "code",
   "execution_count": 39,
   "metadata": {},
   "outputs": [
    {
     "name": "stdout",
     "output_type": "stream",
     "text": [
      "+--------+--------+--------+--------+----------------+\n",
      "|    Mjob|    Fjob|Cap_Mjob|Cap_Fjob|<lambda>(school)|\n",
      "+--------+--------+--------+--------+----------------+\n",
      "| at_home| teacher| At_home| Teacher|              Gp|\n",
      "| at_home|   other| At_home|   Other|              Gp|\n",
      "| at_home|   other| At_home|   Other|              Gp|\n",
      "|  health|services|  Health|Services|              Gp|\n",
      "|   other|   other|   Other|   Other|              Gp|\n",
      "|services|   other|Services|   Other|              Gp|\n",
      "|   other|   other|   Other|   Other|              Gp|\n",
      "|   other| teacher|   Other| Teacher|              Gp|\n",
      "|services|   other|Services|   Other|              Gp|\n",
      "|   other|   other|   Other|   Other|              Gp|\n",
      "| teacher|  health| Teacher|  Health|              Gp|\n",
      "|services|   other|Services|   Other|              Gp|\n",
      "|  health|services|  Health|Services|              Gp|\n",
      "| teacher|   other| Teacher|   Other|              Gp|\n",
      "|   other|   other|   Other|   Other|              Gp|\n",
      "|  health|   other|  Health|   Other|              Gp|\n",
      "|services|services|Services|Services|              Gp|\n",
      "|   other|   other|   Other|   Other|              Gp|\n",
      "|services|services|Services|Services|              Gp|\n",
      "|  health|   other|  Health|   Other|              Gp|\n",
      "+--------+--------+--------+--------+----------------+\n",
      "only showing top 20 rows\n",
      "\n"
     ]
    }
   ],
   "source": [
    "df.select(\"Mjob\",\"Fjob\",initcap(\"Mjob\").alias(\"Cap_Mjob\"),initcap(\"Fjob\").alias(\"Cap_Fjob\"),capatalizer(col(\"school\"))).show()"
   ]
  },
  {
   "cell_type": "markdown",
   "metadata": {},
   "source": [
    "### Step 7. Print the last elements of the data set."
   ]
  },
  {
   "cell_type": "code",
   "execution_count": 10,
   "metadata": {
    "collapsed": false,
    "jupyter": {
     "outputs_hidden": false
    }
   },
   "outputs": [
    {
     "data": {
      "text/plain": [
       "[Row(school='MS', sex='F', age=18, address='R', famsize='GT3', Pstatus='T', Medu=2, Fedu=2, Mjob='at_home', Fjob='other', reason='other', guardian='mother', traveltime=2, studytime=3, failures=0, schoolsup='no', famsup='no', paid='yes', activities='no', nursery='yes', higher='yes', internet='no', romantic='no', famrel=5, freetime=3, goout=3, Dalc=1, Walc=3, health=4, absences=2, G1=10, G2=9, G3=10),\n",
       " Row(school='MS', sex='F', age=18, address='R', famsize='GT3', Pstatus='T', Medu=4, Fedu=4, Mjob='teacher', Fjob='at_home', reason='reputation', guardian='mother', traveltime=3, studytime=1, failures=0, schoolsup='no', famsup='yes', paid='yes', activities='yes', nursery='yes', higher='yes', internet='yes', romantic='yes', famrel=4, freetime=4, goout=3, Dalc=2, Walc=2, health=5, absences=7, G1=6, G2=5, G3=6),\n",
       " Row(school='MS', sex='F', age=19, address='R', famsize='GT3', Pstatus='T', Medu=2, Fedu=3, Mjob='services', Fjob='other', reason='course', guardian='mother', traveltime=1, studytime=3, failures=1, schoolsup='no', famsup='no', paid='no', activities='yes', nursery='no', higher='yes', internet='yes', romantic='no', famrel=5, freetime=4, goout=2, Dalc=1, Walc=2, health=5, absences=0, G1=7, G2=5, G3=0),\n",
       " Row(school='MS', sex='F', age=18, address='U', famsize='LE3', Pstatus='T', Medu=3, Fedu=1, Mjob='teacher', Fjob='services', reason='course', guardian='mother', traveltime=1, studytime=2, failures=0, schoolsup='no', famsup='yes', paid='yes', activities='no', nursery='yes', higher='yes', internet='yes', romantic='no', famrel=4, freetime=3, goout=4, Dalc=1, Walc=1, health=1, absences=0, G1=7, G2=9, G3=8),\n",
       " Row(school='MS', sex='F', age=18, address='U', famsize='GT3', Pstatus='T', Medu=1, Fedu=1, Mjob='other', Fjob='other', reason='course', guardian='mother', traveltime=2, studytime=2, failures=1, schoolsup='no', famsup='no', paid='no', activities='yes', nursery='yes', higher='yes', internet='no', romantic='no', famrel=1, freetime=1, goout=1, Dalc=1, Walc=1, health=5, absences=0, G1=6, G2=5, G3=0),\n",
       " Row(school='MS', sex='M', age=20, address='U', famsize='LE3', Pstatus='A', Medu=2, Fedu=2, Mjob='services', Fjob='services', reason='course', guardian='other', traveltime=1, studytime=2, failures=2, schoolsup='no', famsup='yes', paid='yes', activities='no', nursery='yes', higher='yes', internet='no', romantic='no', famrel=5, freetime=5, goout=4, Dalc=4, Walc=5, health=4, absences=11, G1=9, G2=9, G3=9),\n",
       " Row(school='MS', sex='M', age=17, address='U', famsize='LE3', Pstatus='T', Medu=3, Fedu=1, Mjob='services', Fjob='services', reason='course', guardian='mother', traveltime=2, studytime=1, failures=0, schoolsup='no', famsup='no', paid='no', activities='no', nursery='no', higher='yes', internet='yes', romantic='no', famrel=2, freetime=4, goout=5, Dalc=3, Walc=4, health=2, absences=3, G1=14, G2=16, G3=16),\n",
       " Row(school='MS', sex='M', age=21, address='R', famsize='GT3', Pstatus='T', Medu=1, Fedu=1, Mjob='other', Fjob='other', reason='course', guardian='other', traveltime=1, studytime=1, failures=3, schoolsup='no', famsup='no', paid='no', activities='no', nursery='no', higher='yes', internet='no', romantic='no', famrel=5, freetime=5, goout=3, Dalc=3, Walc=3, health=3, absences=3, G1=10, G2=8, G3=7),\n",
       " Row(school='MS', sex='M', age=18, address='R', famsize='LE3', Pstatus='T', Medu=3, Fedu=2, Mjob='services', Fjob='other', reason='course', guardian='mother', traveltime=3, studytime=1, failures=0, schoolsup='no', famsup='no', paid='no', activities='no', nursery='no', higher='yes', internet='yes', romantic='no', famrel=4, freetime=4, goout=1, Dalc=3, Walc=4, health=5, absences=0, G1=11, G2=12, G3=10),\n",
       " Row(school='MS', sex='M', age=19, address='U', famsize='LE3', Pstatus='T', Medu=1, Fedu=1, Mjob='other', Fjob='at_home', reason='course', guardian='father', traveltime=1, studytime=1, failures=0, schoolsup='no', famsup='no', paid='no', activities='no', nursery='yes', higher='yes', internet='yes', romantic='no', famrel=3, freetime=2, goout=3, Dalc=3, Walc=3, health=5, absences=5, G1=8, G2=9, G3=9)]"
      ]
     },
     "execution_count": 10,
     "metadata": {},
     "output_type": "execute_result"
    }
   ],
   "source": [
    "df.tail(10)"
   ]
  },
  {
   "cell_type": "markdown",
   "metadata": {},
   "source": [
    "### Step 8. Did you notice the original dataframe is still lowercase? Why is that? Fix it and capitalize Mjob and Fjob."
   ]
  },
  {
   "cell_type": "code",
   "execution_count": 41,
   "metadata": {
    "collapsed": false,
    "jupyter": {
     "outputs_hidden": false
    }
   },
   "outputs": [],
   "source": [
    "df1 = df.select('school',\n",
    " 'sex',\n",
    " 'age',\n",
    " 'address',\n",
    " 'famsize',\n",
    " 'Pstatus',\n",
    " 'Medu',\n",
    " 'Fedu',\n",
    " 'reason',\n",
    " 'guardian',\n",
    " 'traveltime',\n",
    " 'studytime',\n",
    " 'failures',\n",
    " 'schoolsup',\n",
    " 'famsup',\n",
    " 'paid',\n",
    " 'activities',\n",
    " 'nursery',\n",
    " 'higher',\n",
    " 'internet',\n",
    " 'romantic',\n",
    " 'famrel',\n",
    " 'freetime',\n",
    " 'goout',\n",
    " 'Dalc',\n",
    " 'Walc',\n",
    " 'health',\n",
    " 'absences',\n",
    " 'G1',\n",
    " 'G2',\n",
    " 'G3',capatalizer(col(\"Mjob\")), capatalizer(col(\"Fjob\")))"
   ]
  },
  {
   "cell_type": "markdown",
   "metadata": {},
   "source": [
    "### Step 9. Create a function called majority that returns a boolean value to a new column called legal_drinker (Consider majority as older than 17 years old)"
   ]
  },
  {
   "cell_type": "code",
   "execution_count": 18,
   "metadata": {},
   "outputs": [],
   "source": [
    "def majority(age):\n",
    "    if age >17:\n",
    "        return True\n",
    "    return False"
   ]
  },
  {
   "cell_type": "code",
   "execution_count": 22,
   "metadata": {},
   "outputs": [],
   "source": [
    "majority_udf = udf(lambda z: majority(z),BooleanType())"
   ]
  },
  {
   "cell_type": "code",
   "execution_count": 28,
   "metadata": {
    "collapsed": false,
    "jupyter": {
     "outputs_hidden": false
    }
   },
   "outputs": [],
   "source": [
    "df1 = df1.withColumn(\"legal_drinker\",majority_udf(col(\"age\")))"
   ]
  },
  {
   "cell_type": "markdown",
   "metadata": {},
   "source": [
    "### Step 10. Multiply every number of the dataset by 10. \n",
    "##### I know this makes no sense, don't forget it is just an exercise"
   ]
  },
  {
   "cell_type": "code",
   "execution_count": 75,
   "metadata": {
    "collapsed": false,
    "jupyter": {
     "outputs_hidden": false
    }
   },
   "outputs": [],
   "source": [
    "for field in df1.schema.fields:\n",
    "    if str(field.dataType) in ['DoubleType()', 'FloatType()', 'LongType()', 'IntegerType()', 'DecimalType()']:\n",
    "        df1 = df1.withColumn(str(field.name), col(str(field.name))*10)\n",
    "        "
   ]
  },
  {
   "cell_type": "code",
   "execution_count": 76,
   "metadata": {},
   "outputs": [
    {
     "name": "stdout",
     "output_type": "stream",
     "text": [
      "+------+---+---+-------+-------+-------+----+----+--------+--------+----------+--------+----------+---------+--------+---------+------+----+----------+-------+------+--------+--------+------+--------+-----+----+----+------+--------+---+---+---+\n",
      "|school|sex|age|address|famsize|Pstatus|Medu|Fedu|    Mjob|    Fjob|    reason|guardian|traveltime|studytime|failures|schoolsup|famsup|paid|activities|nursery|higher|internet|romantic|famrel|freetime|goout|Dalc|Walc|health|absences| G1| G2| G3|\n",
      "+------+---+---+-------+-------+-------+----+----+--------+--------+----------+--------+----------+---------+--------+---------+------+----+----------+-------+------+--------+--------+------+--------+-----+----+----+------+--------+---+---+---+\n",
      "|    GP|  F| 18|      U|    GT3|      A|   4|   4| at_home| teacher|    course|  mother|         2|        2|       0|      yes|    no|  no|        no|    yes|   yes|      no|      no|     4|       3|    4|   1|   1|     3|       6|  5|  6|  6|\n",
      "|    GP|  F| 17|      U|    GT3|      T|   1|   1| at_home|   other|    course|  father|         1|        2|       0|       no|   yes|  no|        no|     no|   yes|     yes|      no|     5|       3|    3|   1|   1|     3|       4|  5|  5|  6|\n",
      "|    GP|  F| 15|      U|    LE3|      T|   1|   1| at_home|   other|     other|  mother|         1|        2|       3|      yes|    no| yes|        no|    yes|   yes|     yes|      no|     4|       3|    2|   2|   3|     3|      10|  7|  8| 10|\n",
      "|    GP|  F| 15|      U|    GT3|      T|   4|   2|  health|services|      home|  mother|         1|        3|       0|       no|   yes| yes|       yes|    yes|   yes|     yes|     yes|     3|       2|    2|   1|   1|     5|       2| 15| 14| 15|\n",
      "|    GP|  F| 16|      U|    GT3|      T|   3|   3|   other|   other|      home|  father|         1|        2|       0|       no|   yes| yes|        no|    yes|   yes|      no|      no|     4|       3|    2|   1|   2|     5|       4|  6| 10| 10|\n",
      "|    GP|  M| 16|      U|    LE3|      T|   4|   3|services|   other|reputation|  mother|         1|        2|       0|       no|   yes| yes|       yes|    yes|   yes|     yes|      no|     5|       4|    2|   1|   2|     5|      10| 15| 15| 15|\n",
      "|    GP|  M| 16|      U|    LE3|      T|   2|   2|   other|   other|      home|  mother|         1|        2|       0|       no|    no|  no|        no|    yes|   yes|     yes|      no|     4|       4|    4|   1|   1|     3|       0| 12| 12| 11|\n",
      "|    GP|  F| 17|      U|    GT3|      A|   4|   4|   other| teacher|      home|  mother|         2|        2|       0|      yes|   yes|  no|        no|    yes|   yes|      no|      no|     4|       1|    4|   1|   1|     1|       6|  6|  5|  6|\n",
      "|    GP|  M| 15|      U|    LE3|      A|   3|   2|services|   other|      home|  mother|         1|        2|       0|       no|   yes| yes|        no|    yes|   yes|     yes|      no|     4|       2|    2|   1|   1|     1|       0| 16| 18| 19|\n",
      "|    GP|  M| 15|      U|    GT3|      T|   3|   4|   other|   other|      home|  mother|         1|        2|       0|       no|   yes| yes|       yes|    yes|   yes|     yes|      no|     5|       5|    1|   1|   1|     5|       0| 14| 15| 15|\n",
      "+------+---+---+-------+-------+-------+----+----+--------+--------+----------+--------+----------+---------+--------+---------+------+----+----------+-------+------+--------+--------+------+--------+-----+----+----+------+--------+---+---+---+\n",
      "only showing top 10 rows\n",
      "\n"
     ]
    }
   ],
   "source": [
    "df.show(10)"
   ]
  },
  {
   "cell_type": "code",
   "execution_count": 77,
   "metadata": {
    "collapsed": false,
    "jupyter": {
     "outputs_hidden": false
    }
   },
   "outputs": [
    {
     "name": "stdout",
     "output_type": "stream",
     "text": [
      "+------+---+----+-------+-------+-------+----+----+----------+--------+----------+---------+--------+---------+------+----+----------+-------+------+--------+--------+------+--------+-----+----+----+------+--------+----+----+----+--------------+--------------+\n",
      "|school|sex| age|address|famsize|Pstatus|Medu|Fedu|    reason|guardian|traveltime|studytime|failures|schoolsup|famsup|paid|activities|nursery|higher|internet|romantic|famrel|freetime|goout|Dalc|Walc|health|absences|  G1|  G2|  G3|<lambda>(Mjob)|<lambda>(Fjob)|\n",
      "+------+---+----+-------+-------+-------+----+----+----------+--------+----------+---------+--------+---------+------+----+----------+-------+------+--------+--------+------+--------+-----+----+----+------+--------+----+----+----+--------------+--------------+\n",
      "|    GP|  F|1800|      U|    GT3|      A| 400| 400|    course|  mother|       200|      200|       0|      yes|    no|  no|        no|    yes|   yes|      no|      no|   400|     300|  400| 100| 100|   300|     600| 500| 600| 600|       At_home|       Teacher|\n",
      "|    GP|  F|1700|      U|    GT3|      T| 100| 100|    course|  father|       100|      200|       0|       no|   yes|  no|        no|     no|   yes|     yes|      no|   500|     300|  300| 100| 100|   300|     400| 500| 500| 600|       At_home|         Other|\n",
      "|    GP|  F|1500|      U|    LE3|      T| 100| 100|     other|  mother|       100|      200|     300|      yes|    no| yes|        no|    yes|   yes|     yes|      no|   400|     300|  200| 200| 300|   300|    1000| 700| 800|1000|       At_home|         Other|\n",
      "|    GP|  F|1500|      U|    GT3|      T| 400| 200|      home|  mother|       100|      300|       0|       no|   yes| yes|       yes|    yes|   yes|     yes|     yes|   300|     200|  200| 100| 100|   500|     200|1500|1400|1500|        Health|      Services|\n",
      "|    GP|  F|1600|      U|    GT3|      T| 300| 300|      home|  father|       100|      200|       0|       no|   yes| yes|        no|    yes|   yes|      no|      no|   400|     300|  200| 100| 200|   500|     400| 600|1000|1000|         Other|         Other|\n",
      "|    GP|  M|1600|      U|    LE3|      T| 400| 300|reputation|  mother|       100|      200|       0|       no|   yes| yes|       yes|    yes|   yes|     yes|      no|   500|     400|  200| 100| 200|   500|    1000|1500|1500|1500|      Services|         Other|\n",
      "|    GP|  M|1600|      U|    LE3|      T| 200| 200|      home|  mother|       100|      200|       0|       no|    no|  no|        no|    yes|   yes|     yes|      no|   400|     400|  400| 100| 100|   300|       0|1200|1200|1100|         Other|         Other|\n",
      "|    GP|  F|1700|      U|    GT3|      A| 400| 400|      home|  mother|       200|      200|       0|      yes|   yes|  no|        no|    yes|   yes|      no|      no|   400|     100|  400| 100| 100|   100|     600| 600| 500| 600|         Other|       Teacher|\n",
      "|    GP|  M|1500|      U|    LE3|      A| 300| 200|      home|  mother|       100|      200|       0|       no|   yes| yes|        no|    yes|   yes|     yes|      no|   400|     200|  200| 100| 100|   100|       0|1600|1800|1900|      Services|         Other|\n",
      "|    GP|  M|1500|      U|    GT3|      T| 300| 400|      home|  mother|       100|      200|       0|       no|   yes| yes|       yes|    yes|   yes|     yes|      no|   500|     500|  100| 100| 100|   500|       0|1400|1500|1500|         Other|         Other|\n",
      "+------+---+----+-------+-------+-------+----+----+----------+--------+----------+---------+--------+---------+------+----+----------+-------+------+--------+--------+------+--------+-----+----+----+------+--------+----+----+----+--------------+--------------+\n",
      "only showing top 10 rows\n",
      "\n"
     ]
    }
   ],
   "source": [
    "df1.show(10)"
   ]
  }
 ],
 "metadata": {
  "anaconda-cloud": {},
  "kernelspec": {
   "display_name": "Python 3 (ipykernel)",
   "language": "python",
   "name": "python3"
  },
  "language_info": {
   "codemirror_mode": {
    "name": "ipython",
    "version": 3
   },
   "file_extension": ".py",
   "mimetype": "text/x-python",
   "name": "python",
   "nbconvert_exporter": "python",
   "pygments_lexer": "ipython3",
   "version": "3.8.10"
  }
 },
 "nbformat": 4,
 "nbformat_minor": 4
}
