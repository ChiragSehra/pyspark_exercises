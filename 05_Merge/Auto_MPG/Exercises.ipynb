{
 "cells": [
  {
   "cell_type": "markdown",
   "metadata": {},
   "source": [
    "# MPG Cars"
   ]
  },
  {
   "cell_type": "markdown",
   "metadata": {},
   "source": [
    "### Introduction:\n",
    "\n",
    "The following exercise utilizes data from [UC Irvine Machine Learning Repository](https://archive.ics.uci.edu/ml/datasets/Auto+MPG)\n",
    "\n",
    "### Step 1. Import the necessary libraries"
   ]
  },
  {
   "cell_type": "code",
   "execution_count": 1,
   "metadata": {
    "collapsed": false,
    "jupyter": {
     "outputs_hidden": false
    }
   },
   "outputs": [],
   "source": [
    "from pyspark.sql import SparkSession\n",
    "from pyspark.sql.functions import *\n",
    "import requests\n",
    "import numpy\n",
    "from pyspark.sql import functions as F\n",
    "import random\n",
    "from pyspark import SparkContext"
   ]
  },
  {
   "cell_type": "code",
   "execution_count": 16,
   "metadata": {},
   "outputs": [],
   "source": [
    "from pyspark.sql import Window"
   ]
  },
  {
   "cell_type": "code",
   "execution_count": 2,
   "metadata": {},
   "outputs": [
    {
     "name": "stdout",
     "output_type": "stream",
     "text": [
      "22/10/11 00:11:29 WARN Utils: Your hostname, xkeyscore resolves to a loopback address: 127.0.1.1; using 192.168.1.11 instead (on interface wlp0s20f3)\n",
      "22/10/11 00:11:29 WARN Utils: Set SPARK_LOCAL_IP if you need to bind to another address\n"
     ]
    },
    {
     "name": "stderr",
     "output_type": "stream",
     "text": [
      "Setting default log level to \"WARN\".\n",
      "To adjust logging level use sc.setLogLevel(newLevel). For SparkR, use setLogLevel(newLevel).\n"
     ]
    },
    {
     "name": "stdout",
     "output_type": "stream",
     "text": [
      "22/10/11 00:11:30 WARN NativeCodeLoader: Unable to load native-hadoop library for your platform... using builtin-java classes where applicable\n",
      "22/10/11 00:11:30 WARN Utils: Service 'SparkUI' could not bind on port 4040. Attempting port 4041.\n"
     ]
    }
   ],
   "source": [
    "spark = SparkSession.builder.master(\"local[1]\").appName(\"cars\").getOrCreate()"
   ]
  },
  {
   "cell_type": "code",
   "execution_count": 3,
   "metadata": {},
   "outputs": [],
   "source": [
    "sc = spark.sparkContext"
   ]
  },
  {
   "cell_type": "markdown",
   "metadata": {
    "tags": []
   },
   "source": [
    "### Step 2. Import the first dataset [cars1](https://raw.githubusercontent.com/guipsamora/pandas_exercises/master/05_Merge/Auto_MPG/cars1.csv) and [cars2](https://raw.githubusercontent.com/guipsamora/pandas_exercises/master/05_Merge/Auto_MPG/cars2.csv).  "
   ]
  },
  {
   "cell_type": "code",
   "execution_count": 4,
   "metadata": {},
   "outputs": [],
   "source": [
    "cars_1 = spark.read.options(header=True, inferSchema=True).csv(\"cars1.csv\")\n",
    "cars_2 = spark.read.options(header=True, inferSchema=True).csv(\"cars2.csv\")"
   ]
  },
  {
   "cell_type": "markdown",
   "metadata": {},
   "source": [
    "   ### Step 3. Assign each to a variable called cars1 and cars2"
   ]
  },
  {
   "cell_type": "code",
   "execution_count": null,
   "metadata": {
    "collapsed": false,
    "jupyter": {
     "outputs_hidden": false
    }
   },
   "outputs": [],
   "source": []
  },
  {
   "cell_type": "markdown",
   "metadata": {},
   "source": [
    "### Step 4. Oops, it seems our first dataset has some unnamed blank columns, fix cars1"
   ]
  },
  {
   "cell_type": "code",
   "execution_count": 5,
   "metadata": {
    "collapsed": false,
    "jupyter": {
     "outputs_hidden": false
    }
   },
   "outputs": [
    {
     "data": {
      "text/plain": [
       "['mpg',\n",
       " 'cylinders',\n",
       " 'displacement',\n",
       " 'horsepower',\n",
       " 'weight',\n",
       " 'acceleration',\n",
       " 'model',\n",
       " 'origin',\n",
       " 'car',\n",
       " '_c9',\n",
       " '_c10',\n",
       " '_c11',\n",
       " '_c12',\n",
       " '_c13']"
      ]
     },
     "execution_count": 5,
     "metadata": {},
     "output_type": "execute_result"
    }
   ],
   "source": [
    "cars_1.columns"
   ]
  },
  {
   "cell_type": "code",
   "execution_count": 6,
   "metadata": {},
   "outputs": [],
   "source": [
    "cars_1 = cars_1.drop('_c9', '_c10', '_c11', '_c12','_c13')"
   ]
  },
  {
   "cell_type": "code",
   "execution_count": 7,
   "metadata": {},
   "outputs": [
    {
     "name": "stdout",
     "output_type": "stream",
     "text": [
      "+----+---------+------------+----------+------+------------+-----+------+--------------------+\n",
      "| mpg|cylinders|displacement|horsepower|weight|acceleration|model|origin|                 car|\n",
      "+----+---------+------------+----------+------+------------+-----+------+--------------------+\n",
      "|18.0|        8|         307|       130|  3504|        12.0|   70|     1|chevrolet chevell...|\n",
      "|15.0|        8|         350|       165|  3693|        11.5|   70|     1|   buick skylark 320|\n",
      "|18.0|        8|         318|       150|  3436|        11.0|   70|     1|  plymouth satellite|\n",
      "|16.0|        8|         304|       150|  3433|        12.0|   70|     1|       amc rebel sst|\n",
      "|17.0|        8|         302|       140|  3449|        10.5|   70|     1|         ford torino|\n",
      "|15.0|        8|         429|       198|  4341|        10.0|   70|     1|    ford galaxie 500|\n",
      "|14.0|        8|         454|       220|  4354|         9.0|   70|     1|    chevrolet impala|\n",
      "|14.0|        8|         440|       215|  4312|         8.5|   70|     1|   plymouth fury iii|\n",
      "|14.0|        8|         455|       225|  4425|        10.0|   70|     1|    pontiac catalina|\n",
      "|15.0|        8|         390|       190|  3850|         8.5|   70|     1|  amc ambassador dpl|\n",
      "|15.0|        8|         383|       170|  3563|        10.0|   70|     1| dodge challenger se|\n",
      "|14.0|        8|         340|       160|  3609|         8.0|   70|     1|  plymouth 'cuda 340|\n",
      "|15.0|        8|         400|       150|  3761|         9.5|   70|     1|chevrolet monte c...|\n",
      "|14.0|        8|         455|       225|  3086|        10.0|   70|     1|buick estate wago...|\n",
      "|24.0|        4|         113|        95|  2372|        15.0|   70|     3|toyota corona mar...|\n",
      "|22.0|        6|         198|        95|  2833|        15.5|   70|     1|     plymouth duster|\n",
      "|18.0|        6|         199|        97|  2774|        15.5|   70|     1|          amc hornet|\n",
      "|21.0|        6|         200|        85|  2587|        16.0|   70|     1|       ford maverick|\n",
      "|27.0|        4|          97|        88|  2130|        14.5|   70|     3|        datsun pl510|\n",
      "|26.0|        4|          97|        46|  1835|        20.5|   70|     2|volkswagen 1131 d...|\n",
      "+----+---------+------------+----------+------+------------+-----+------+--------------------+\n",
      "only showing top 20 rows\n",
      "\n"
     ]
    }
   ],
   "source": [
    "cars_1.show()"
   ]
  },
  {
   "cell_type": "markdown",
   "metadata": {},
   "source": [
    "### Step 5. What is the number of observations in each dataset?"
   ]
  },
  {
   "cell_type": "code",
   "execution_count": 8,
   "metadata": {
    "collapsed": false,
    "jupyter": {
     "outputs_hidden": false
    }
   },
   "outputs": [
    {
     "name": "stdout",
     "output_type": "stream",
     "text": [
      "Count of cars1 dataset: 198\n",
      "Count of cars2 dataset: 200\n"
     ]
    }
   ],
   "source": [
    "print(\"Count of cars1 dataset: {}\".format(cars_1.count()))\n",
    "print(\"Count of cars2 dataset: {}\".format(cars_2.count()))"
   ]
  },
  {
   "cell_type": "markdown",
   "metadata": {},
   "source": [
    "### Step 6. Join cars1 and cars2 into a single DataFrame called cars"
   ]
  },
  {
   "cell_type": "code",
   "execution_count": 9,
   "metadata": {
    "collapsed": false,
    "jupyter": {
     "outputs_hidden": false
    }
   },
   "outputs": [
    {
     "name": "stdout",
     "output_type": "stream",
     "text": [
      "['mpg', 'cylinders', 'displacement', 'horsepower', 'weight', 'acceleration', 'model', 'origin', 'car']\n",
      "['mpg', 'cylinders', 'displacement', 'horsepower', 'weight', 'acceleration', 'model', 'origin', 'car']\n"
     ]
    }
   ],
   "source": [
    "print(cars_1.columns)\n",
    "print(cars_2.columns)"
   ]
  },
  {
   "cell_type": "code",
   "execution_count": 29,
   "metadata": {},
   "outputs": [],
   "source": [
    "total_cars = cars_1.union(cars_2)"
   ]
  },
  {
   "cell_type": "code",
   "execution_count": 30,
   "metadata": {},
   "outputs": [
    {
     "data": {
      "text/plain": [
       "398"
      ]
     },
     "execution_count": 30,
     "metadata": {},
     "output_type": "execute_result"
    }
   ],
   "source": [
    "total_cars.count()"
   ]
  },
  {
   "cell_type": "markdown",
   "metadata": {},
   "source": [
    "### Step 7. Oops, there is a column missing, called owners. Create a random number Series from 15,000 to 73,000."
   ]
  },
  {
   "cell_type": "code",
   "execution_count": 35,
   "metadata": {},
   "outputs": [],
   "source": [
    "total_cars = total_cars.withColumn(\"owners\",F.row_number().over(Window.orderBy('mpg'))+14999)"
   ]
  },
  {
   "cell_type": "code",
   "execution_count": 36,
   "metadata": {},
   "outputs": [
    {
     "name": "stdout",
     "output_type": "stream",
     "text": [
      "22/10/11 00:18:03 WARN WindowExec: No Partition Defined for Window operation! Moving all data to a single partition, this can cause serious performance degradation.\n",
      "22/10/11 00:18:03 WARN WindowExec: No Partition Defined for Window operation! Moving all data to a single partition, this can cause serious performance degradation.\n",
      "22/10/11 00:18:03 WARN WindowExec: No Partition Defined for Window operation! Moving all data to a single partition, this can cause serious performance degradation.\n",
      "22/10/11 00:18:03 WARN WindowExec: No Partition Defined for Window operation! Moving all data to a single partition, this can cause serious performance degradation.\n",
      "22/10/11 00:18:03 WARN WindowExec: No Partition Defined for Window operation! Moving all data to a single partition, this can cause serious performance degradation.\n"
     ]
    },
    {
     "data": {
      "text/plain": [
       "[Row(mpg=44.6, cylinders=4, displacement=91, horsepower='67', weight=1850, acceleration=13.8, model=80, origin=3, car='honda civic 1500 gl', number=15396, owners=15396),\n",
       " Row(mpg=46.6, cylinders=4, displacement=86, horsepower='65', weight=2110, acceleration=17.9, model=80, origin=3, car='mazda glc', number=15397, owners=15397)]"
      ]
     },
     "execution_count": 36,
     "metadata": {},
     "output_type": "execute_result"
    }
   ],
   "source": [
    "total_cars.tail(2)"
   ]
  },
  {
   "cell_type": "code",
   "execution_count": 37,
   "metadata": {},
   "outputs": [
    {
     "name": "stdout",
     "output_type": "stream",
     "text": [
      "22/10/11 00:18:08 WARN WindowExec: No Partition Defined for Window operation! Moving all data to a single partition, this can cause serious performance degradation.\n",
      "22/10/11 00:18:08 WARN WindowExec: No Partition Defined for Window operation! Moving all data to a single partition, this can cause serious performance degradation.\n",
      "22/10/11 00:18:08 WARN WindowExec: No Partition Defined for Window operation! Moving all data to a single partition, this can cause serious performance degradation.\n",
      "+----+---------+------------+----------+------+------------+-----+------+--------------------+------+------+\n",
      "| mpg|cylinders|displacement|horsepower|weight|acceleration|model|origin|                 car|number|owners|\n",
      "+----+---------+------------+----------+------+------------+-----+------+--------------------+------+------+\n",
      "| 9.0|        8|         304|       193|  4732|        18.5|   70|     1|            hi 1200d| 15000| 15000|\n",
      "|10.0|        8|         360|       215|  4615|        14.0|   70|     1|           ford f250| 15001| 15001|\n",
      "|10.0|        8|         307|       200|  4376|        15.0|   70|     1|           chevy c20| 15002| 15002|\n",
      "|11.0|        8|         318|       210|  4382|        13.5|   70|     1|          dodge d200| 15003| 15003|\n",
      "|11.0|        8|         429|       208|  4633|        11.0|   72|     1|     mercury marquis| 15004| 15004|\n",
      "|11.0|        8|         400|       150|  4997|        14.0|   73|     1|    chevrolet impala| 15005| 15005|\n",
      "|11.0|        8|         350|       180|  3664|        11.0|   73|     1|    oldsmobile omega| 15006| 15006|\n",
      "|12.0|        8|         383|       180|  4955|        11.5|   71|     1|   dodge monaco (sw)| 15007| 15007|\n",
      "|12.0|        8|         350|       160|  4456|        13.5|   72|     1|oldsmobile delta ...| 15008| 15008|\n",
      "|12.0|        8|         429|       198|  4952|        11.5|   73|     1|mercury marquis b...| 15009| 15009|\n",
      "|12.0|        8|         455|       225|  4951|        11.0|   73|     1|buick electra 225...| 15010| 15010|\n",
      "|12.0|        8|         400|       167|  4906|        12.5|   73|     1|        ford country| 15011| 15011|\n",
      "|12.0|        8|         350|       180|  4499|        12.5|   73|     1|oldsmobile vista ...| 15012| 15012|\n",
      "|13.0|        8|         400|       175|  5140|        12.0|   71|     1| pontiac safari (sw)| 15013| 15013|\n",
      "|13.0|        8|         351|       158|  4363|        13.0|   73|     1|            ford ltd| 15014| 15014|\n",
      "|13.0|        8|         350|       165|  4274|        12.0|   72|     1|    chevrolet impala| 15015| 15015|\n",
      "|13.0|        8|         400|       170|  4746|        12.0|   71|     1|ford country squi...| 15016| 15016|\n",
      "|13.0|        8|         350|       155|  4502|        13.5|   72|     1|buick lesabre custom| 15017| 15017|\n",
      "|13.0|        8|         400|       190|  4422|        12.5|   72|     1|chrysler newport ...| 15018| 15018|\n",
      "|13.0|        8|         307|       130|  4098|        14.0|   72|     1|chevrolet chevell...| 15019| 15019|\n",
      "+----+---------+------------+----------+------+------------+-----+------+--------------------+------+------+\n",
      "only showing top 20 rows\n",
      "\n"
     ]
    }
   ],
   "source": [
    "total_cars.show()"
   ]
  },
  {
   "cell_type": "markdown",
   "metadata": {},
   "source": [
    "### Step 8. Add the column owners to cars"
   ]
  },
  {
   "cell_type": "code",
   "execution_count": null,
   "metadata": {
    "collapsed": false,
    "jupyter": {
     "outputs_hidden": false
    }
   },
   "outputs": [],
   "source": []
  },
  {
   "cell_type": "code",
   "execution_count": null,
   "metadata": {},
   "outputs": [],
   "source": []
  }
 ],
 "metadata": {
  "anaconda-cloud": {},
  "kernelspec": {
   "display_name": "Python 3 (ipykernel)",
   "language": "python",
   "name": "python3"
  },
  "language_info": {
   "codemirror_mode": {
    "name": "ipython",
    "version": 3
   },
   "file_extension": ".py",
   "mimetype": "text/x-python",
   "name": "python",
   "nbconvert_exporter": "python",
   "pygments_lexer": "ipython3",
   "version": "3.8.10"
  }
 },
 "nbformat": 4,
 "nbformat_minor": 4
}
