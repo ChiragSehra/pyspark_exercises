{
 "cells": [
  {
   "cell_type": "markdown",
   "metadata": {},
   "source": [
    "# Visualizing Chipotle's Data"
   ]
  },
  {
   "cell_type": "markdown",
   "metadata": {},
   "source": [
    "This time we are going to pull data directly from the internet.\n",
    "Special thanks to: https://github.com/justmarkham for sharing the dataset and materials.\n",
    "\n",
    "### Step 1. Import the necessary libraries"
   ]
  },
  {
   "cell_type": "code",
   "execution_count": 1,
   "metadata": {},
   "outputs": [],
   "source": [
    "from pyspark.sql import SparkSession\n",
    "import pyspark.sql.functions as F\n",
    "import matplotlib.pyplot as plt\n",
    "import seaborn as sns"
   ]
  },
  {
   "cell_type": "code",
   "execution_count": 37,
   "metadata": {},
   "outputs": [],
   "source": [
    "import requests as r\n",
    "from pyspark.sql.types import DoubleType"
   ]
  },
  {
   "cell_type": "code",
   "execution_count": 2,
   "metadata": {},
   "outputs": [
    {
     "name": "stdout",
     "output_type": "stream",
     "text": [
      "22/12/26 16:53:21 WARN Utils: Your hostname, xkeyscore resolves to a loopback address: 127.0.1.1; using 192.168.1.6 instead (on interface wlp0s20f3)\n",
      "22/12/26 16:53:21 WARN Utils: Set SPARK_LOCAL_IP if you need to bind to another address\n"
     ]
    },
    {
     "name": "stderr",
     "output_type": "stream",
     "text": [
      "Setting default log level to \"WARN\".\n",
      "To adjust logging level use sc.setLogLevel(newLevel). For SparkR, use setLogLevel(newLevel).\n"
     ]
    },
    {
     "name": "stdout",
     "output_type": "stream",
     "text": [
      "22/12/26 16:53:21 WARN NativeCodeLoader: Unable to load native-hadoop library for your platform... using builtin-java classes where applicable\n",
      "22/12/26 16:53:22 WARN Utils: Service 'SparkUI' could not bind on port 4040. Attempting port 4041.\n"
     ]
    }
   ],
   "source": [
    "spark = SparkSession.builder.master(\"local[1]\").appName(\"wind\").getOrCreate()"
   ]
  },
  {
   "cell_type": "markdown",
   "metadata": {
    "tags": []
   },
   "source": [
    "### Step 2. Import the dataset from this [address](https://raw.githubusercontent.com/justmarkham/DAT8/master/data/chipotle.tsv). "
   ]
  },
  {
   "cell_type": "code",
   "execution_count": 4,
   "metadata": {},
   "outputs": [],
   "source": [
    "chipotle_data = requests.get(\"https://raw.githubusercontent.com/justmarkham/DAT8/master/data/chipotle.tsv\")"
   ]
  },
  {
   "cell_type": "markdown",
   "metadata": {},
   "source": [
    "### Step 3. Assign it to a variable called chipo."
   ]
  },
  {
   "cell_type": "code",
   "execution_count": 20,
   "metadata": {},
   "outputs": [],
   "source": [
    "with open(\"chipotle.tsv\", \"w\") as f:\n",
    "    f.write(chipotle_data.text)"
   ]
  },
  {
   "cell_type": "code",
   "execution_count": 22,
   "metadata": {},
   "outputs": [],
   "source": [
    "chipo=spark.read.csv(\"chipotle.tsv\",inferSchema=True,header=True,sep=\"\\t\")"
   ]
  },
  {
   "cell_type": "markdown",
   "metadata": {},
   "source": [
    "### Step 4. See the first 10 entries"
   ]
  },
  {
   "cell_type": "code",
   "execution_count": 26,
   "metadata": {},
   "outputs": [
    {
     "name": "stdout",
     "output_type": "stream",
     "text": [
      "+--------+--------+--------------------+--------------------+----------+\n",
      "|order_id|quantity|           item_name|  choice_description|item_price|\n",
      "+--------+--------+--------------------+--------------------+----------+\n",
      "|       1|       1|Chips and Fresh T...|                NULL|    $2.39 |\n",
      "|       1|       1|                Izze|        [Clementine]|    $3.39 |\n",
      "|       1|       1|    Nantucket Nectar|             [Apple]|    $3.39 |\n",
      "|       1|       1|Chips and Tomatil...|                NULL|    $2.39 |\n",
      "|       2|       2|        Chicken Bowl|[Tomatillo-Red Ch...|   $16.98 |\n",
      "|       3|       1|        Chicken Bowl|[Fresh Tomato Sal...|   $10.98 |\n",
      "|       3|       1|       Side of Chips|                NULL|    $1.69 |\n",
      "|       4|       1|       Steak Burrito|[Tomatillo Red Ch...|   $11.75 |\n",
      "|       4|       1|    Steak Soft Tacos|[Tomatillo Green ...|    $9.25 |\n",
      "|       5|       1|       Steak Burrito|[Fresh Tomato Sal...|    $9.25 |\n",
      "+--------+--------+--------------------+--------------------+----------+\n",
      "only showing top 10 rows\n",
      "\n"
     ]
    }
   ],
   "source": [
    "chipo.show(10)"
   ]
  },
  {
   "cell_type": "markdown",
   "metadata": {},
   "source": [
    "### Step 5. Create a histogram of the top 5 items bought"
   ]
  },
  {
   "cell_type": "code",
   "execution_count": 38,
   "metadata": {},
   "outputs": [],
   "source": [
    "df_chipo = chipo.withColumn('price', F.regexp_replace('item_price','[$]', '').cast(DoubleType()))"
   ]
  },
  {
   "cell_type": "code",
   "execution_count": 40,
   "metadata": {},
   "outputs": [
    {
     "name": "stdout",
     "output_type": "stream",
     "text": [
      "+--------+--------+--------------------+------------------+----------+-----+\n",
      "|order_id|quantity|           item_name|choice_description|item_price|price|\n",
      "+--------+--------+--------------------+------------------+----------+-----+\n",
      "|       1|       1|Chips and Fresh T...|              NULL|    $2.39 | 2.39|\n",
      "|       1|       1|                Izze|      [Clementine]|    $3.39 | 3.39|\n",
      "+--------+--------+--------------------+------------------+----------+-----+\n",
      "only showing top 2 rows\n",
      "\n"
     ]
    }
   ],
   "source": [
    "df_chipo.show(2)"
   ]
  },
  {
   "cell_type": "code",
   "execution_count": 42,
   "metadata": {},
   "outputs": [],
   "source": [
    "agg_view = df_chipo.select(\"item_name\",\"quantity\").groupby(\"item_name\").sum().sort(\"sum(quantity)\",ascending=False).limit(5)"
   ]
  },
  {
   "cell_type": "code",
   "execution_count": 43,
   "metadata": {},
   "outputs": [
    {
     "name": "stdout",
     "output_type": "stream",
     "text": [
      "+-------------------+-------------+\n",
      "|          item_name|sum(quantity)|\n",
      "+-------------------+-------------+\n",
      "|       Chicken Bowl|          761|\n",
      "|    Chicken Burrito|          591|\n",
      "|Chips and Guacamole|          506|\n",
      "|      Steak Burrito|          386|\n",
      "|  Canned Soft Drink|          351|\n",
      "+-------------------+-------------+\n",
      "\n"
     ]
    }
   ],
   "source": [
    "agg_view.show()"
   ]
  },
  {
   "cell_type": "code",
   "execution_count": 45,
   "metadata": {},
   "outputs": [],
   "source": [
    "agg_view_df = agg_view.toPandas()"
   ]
  },
  {
   "cell_type": "code",
   "execution_count": 50,
   "metadata": {},
   "outputs": [
    {
     "data": {
      "text/plain": [
       "<AxesSubplot: xlabel='item_name', ylabel='sum(quantity)'>"
      ]
     },
     "execution_count": 50,
     "metadata": {},
     "output_type": "execute_result"
    },
    {
     "data": {
      "image/png": "[encoded data removed]",
      "text/plain": [
       "<Figure size 640x480 with 1 Axes>"
      ]
     },
     "metadata": {},
     "output_type": "display_data"
    }
   ],
   "source": [
    "sns.barplot(agg_view_df,x=agg_view_df['item_name'],y=agg_view_df['sum(quantity)'])"
   ]
  },
  {
   "cell_type": "markdown",
   "metadata": {},
   "source": [
    "### Step 6. Create a scatterplot with the number of items orderered per order price\n",
    "#### Hint: Price should be in the X-axis and Items ordered in the Y-axis"
   ]
  },
  {
   "cell_type": "code",
   "execution_count": 52,
   "metadata": {},
   "outputs": [
    {
     "name": "stdout",
     "output_type": "stream",
     "text": [
      "+--------+--------+--------------------+--------------------+----------+-----+\n",
      "|order_id|quantity|           item_name|  choice_description|item_price|price|\n",
      "+--------+--------+--------------------+--------------------+----------+-----+\n",
      "|       1|       1|Chips and Fresh T...|                NULL|    $2.39 | 2.39|\n",
      "|       1|       1|                Izze|        [Clementine]|    $3.39 | 3.39|\n",
      "|       1|       1|    Nantucket Nectar|             [Apple]|    $3.39 | 3.39|\n",
      "|       1|       1|Chips and Tomatil...|                NULL|    $2.39 | 2.39|\n",
      "|       2|       2|        Chicken Bowl|[Tomatillo-Red Ch...|   $16.98 |16.98|\n",
      "|       3|       1|        Chicken Bowl|[Fresh Tomato Sal...|   $10.98 |10.98|\n",
      "|       3|       1|       Side of Chips|                NULL|    $1.69 | 1.69|\n",
      "|       4|       1|       Steak Burrito|[Tomatillo Red Ch...|   $11.75 |11.75|\n",
      "|       4|       1|    Steak Soft Tacos|[Tomatillo Green ...|    $9.25 | 9.25|\n",
      "|       5|       1|       Steak Burrito|[Fresh Tomato Sal...|    $9.25 | 9.25|\n",
      "|       5|       1| Chips and Guacamole|                NULL|    $4.45 | 4.45|\n",
      "|       6|       1|Chicken Crispy Tacos|[Roasted Chili Co...|    $8.75 | 8.75|\n",
      "|       6|       1|  Chicken Soft Tacos|[Roasted Chili Co...|    $8.75 | 8.75|\n",
      "|       7|       1|        Chicken Bowl|[Fresh Tomato Sal...|   $11.25 |11.25|\n",
      "|       7|       1| Chips and Guacamole|                NULL|    $4.45 | 4.45|\n",
      "|       8|       1|Chips and Tomatil...|                NULL|    $2.39 | 2.39|\n",
      "|       8|       1|     Chicken Burrito|[Tomatillo-Green ...|    $8.49 | 8.49|\n",
      "|       9|       1|     Chicken Burrito|[Fresh Tomato Sal...|    $8.49 | 8.49|\n",
      "|       9|       2|         Canned Soda|            [Sprite]|    $2.18 | 2.18|\n",
      "|      10|       1|        Chicken Bowl|[Tomatillo Red Ch...|    $8.75 | 8.75|\n",
      "+--------+--------+--------------------+--------------------+----------+-----+\n",
      "only showing top 20 rows\n",
      "\n"
     ]
    }
   ],
   "source": [
    "df_chipo.show()"
   ]
  },
  {
   "cell_type": "code",
   "execution_count": 80,
   "metadata": {},
   "outputs": [
    {
     "name": "stdout",
     "output_type": "stream",
     "text": [
      "+-----+-------------+------------------+\n",
      "|price|sum(quantity)|        sum(price)|\n",
      "+-----+-------------+------------------+\n",
      "| 8.75|          730|            6387.5|\n",
      "|11.25|          521|           5861.25|\n",
      "| 9.25|          398|            3681.5|\n",
      "| 4.45|          349|1553.0500000000097|\n",
      "+-----+-------------+------------------+\n",
      "only showing top 4 rows\n",
      "\n"
     ]
    }
   ],
   "source": [
    "new_view = df_chipo.select(\"quantity\",\"price\").groupby(\"price\").sum().sort(\"sum(quantity)\",ascending=False)\n",
    "new_view.show(4)"
   ]
  },
  {
   "cell_type": "code",
   "execution_count": 81,
   "metadata": {},
   "outputs": [],
   "source": [
    "new_view_df = new_view.toPandas()"
   ]
  },
  {
   "cell_type": "code",
   "execution_count": 82,
   "metadata": {},
   "outputs": [
    {
     "data": {
      "text/plain": [
       "<AxesSubplot: xlabel='price', ylabel='sum(quantity)'>"
      ]
     },
     "execution_count": 82,
     "metadata": {},
     "output_type": "execute_result"
    },
    {
     "data": {
      "image/png": "[encoded data removed]",
      "text/plain": [
       "<Figure size 640x480 with 1 Axes>"
      ]
     },
     "metadata": {},
     "output_type": "display_data"
    }
   ],
   "source": [
    "sns.scatterplot(data=new_view_df,x=new_view_df[\"price\"],y=new_view_df[\"sum(quantity)\"])"
   ]
  },
  {
   "cell_type": "markdown",
   "metadata": {},
   "source": [
    "### Step 7. BONUS: Create a question and a graph to answer your own question."
   ]
  },
  {
   "cell_type": "code",
   "execution_count": null,
   "metadata": {},
   "outputs": [],
   "source": []
  }
 ],
 "metadata": {
  "kernelspec": {
   "display_name": "Python 3 (ipykernel)",
   "language": "python",
   "name": "python3"
  },
  "language_info": {
   "codemirror_mode": {
    "name": "ipython",
    "version": 3
   },
   "file_extension": ".py",
   "mimetype": "text/x-python",
   "name": "python",
   "nbconvert_exporter": "python",
   "pygments_lexer": "ipython3",
   "version": "3.8.10"
  }
 },
 "nbformat": 4,
 "nbformat_minor": 4
}
