{
 "cells": [
  {
   "cell_type": "markdown",
   "metadata": {},
   "source": [
    "# Pokemon"
   ]
  },
  {
   "cell_type": "markdown",
   "metadata": {},
   "source": [
    "### Introduction:\n",
    "\n",
    "This time you will create the data.\n",
    "\n",
    "\n",
    "\n",
    "### Step 1. Import the necessary libraries"
   ]
  },
  {
   "cell_type": "code",
   "execution_count": 5,
   "metadata": {
    "collapsed": false,
    "jupyter": {
     "outputs_hidden": false
    }
   },
   "outputs": [],
   "source": [
    "from pyspark.sql import SparkSession, Row\n",
    "import pyspark.sql.functions as F"
   ]
  },
  {
   "cell_type": "code",
   "execution_count": 2,
   "metadata": {},
   "outputs": [
    {
     "name": "stdout",
     "output_type": "stream",
     "text": [
      "23/01/02 18:22:54 WARN Utils: Your hostname, xkeyscore resolves to a loopback address: 127.0.1.1; using 192.168.1.10 instead (on interface wlp0s20f3)\n",
      "23/01/02 18:22:54 WARN Utils: Set SPARK_LOCAL_IP if you need to bind to another address\n"
     ]
    },
    {
     "name": "stderr",
     "output_type": "stream",
     "text": [
      "Setting default log level to \"WARN\".\n",
      "To adjust logging level use sc.setLogLevel(newLevel). For SparkR, use setLogLevel(newLevel).\n"
     ]
    },
    {
     "name": "stdout",
     "output_type": "stream",
     "text": [
      "23/01/02 18:22:55 WARN NativeCodeLoader: Unable to load native-hadoop library for your platform... using builtin-java classes where applicable\n",
      "23/01/02 18:22:55 WARN Utils: Service 'SparkUI' could not bind on port 4040. Attempting port 4041.\n",
      "23/01/02 18:22:55 WARN Utils: Service 'SparkUI' could not bind on port 4041. Attempting port 4042.\n",
      "23/01/02 18:22:55 WARN Utils: Service 'SparkUI' could not bind on port 4042. Attempting port 4043.\n"
     ]
    }
   ],
   "source": [
    "spark = SparkSession.builder.master(\"local[1]\").appName(\"scores\").getOrCreate()"
   ]
  },
  {
   "cell_type": "markdown",
   "metadata": {},
   "source": [
    "### Step 2. Create a data dictionary that looks like the DataFrame below"
   ]
  },
  {
   "cell_type": "code",
   "execution_count": 12,
   "metadata": {
    "tags": []
   },
   "outputs": [],
   "source": [
    "pokemon = spark.createDataFrame(\n",
    "            [\n",
    "                Row(evolution='Ivysaur', hp=45,name='Bulbasaur',pokedex='yes',type='grass'),\n",
    "                Row(evolution='Charmeleon', hp=39,name='Charmander',pokedex='no',type='fire'),\n",
    "                Row(evolution='Wartortle', hp=44,name='Squirtle',pokedex='yes',type='water'),\n",
    "                Row(evolution='Metapod', hp=45,name='Caterpie',pokedex='no',type='bug')\n",
    "            ]\n",
    ")"
   ]
  },
  {
   "cell_type": "markdown",
   "metadata": {},
   "source": [
    "### Step 3. Assign it to a variable called pokemon"
   ]
  },
  {
   "cell_type": "code",
   "execution_count": 14,
   "metadata": {
    "collapsed": false,
    "jupyter": {
     "outputs_hidden": false
    }
   },
   "outputs": [
    {
     "name": "stdout",
     "output_type": "stream",
     "text": [
      "+----------+---+----------+-------+-----+\n",
      "| evolution| hp|      name|pokedex| type|\n",
      "+----------+---+----------+-------+-----+\n",
      "|   Ivysaur| 45| Bulbasaur|    yes|grass|\n",
      "|Charmeleon| 39|Charmander|     no| fire|\n",
      "| Wartortle| 44|  Squirtle|    yes|water|\n",
      "|   Metapod| 45|  Caterpie|     no|  bug|\n",
      "+----------+---+----------+-------+-----+\n",
      "\n"
     ]
    }
   ],
   "source": [
    "pokemon.show(10)"
   ]
  },
  {
   "cell_type": "markdown",
   "metadata": {},
   "source": [
    "### Step 4. Ops...it seems the DataFrame columns are in alphabetical order. Place  the order of the columns as name, type, hp, evolution, pokedex"
   ]
  },
  {
   "cell_type": "code",
   "execution_count": 15,
   "metadata": {
    "collapsed": false,
    "jupyter": {
     "outputs_hidden": false
    }
   },
   "outputs": [],
   "source": [
    "pokemon = pokemon.select(['name','type','hp','evolution','pokedex'])"
   ]
  },
  {
   "cell_type": "code",
   "execution_count": 18,
   "metadata": {},
   "outputs": [
    {
     "name": "stdout",
     "output_type": "stream",
     "text": [
      "+----------+-----+---+----------+-------+\n",
      "|      name| type| hp| evolution|pokedex|\n",
      "+----------+-----+---+----------+-------+\n",
      "| Bulbasaur|grass| 45|   Ivysaur|    yes|\n",
      "|Charmander| fire| 39|Charmeleon|     no|\n",
      "|  Squirtle|water| 44| Wartortle|    yes|\n",
      "|  Caterpie|  bug| 45|   Metapod|     no|\n",
      "+----------+-----+---+----------+-------+\n",
      "\n"
     ]
    }
   ],
   "source": [
    "pokemon.show(10)"
   ]
  },
  {
   "cell_type": "markdown",
   "metadata": {},
   "source": [
    "### Step 5. Add another column called place, and insert what you have in mind."
   ]
  },
  {
   "cell_type": "code",
   "execution_count": 20,
   "metadata": {
    "collapsed": false,
    "jupyter": {
     "outputs_hidden": false
    }
   },
   "outputs": [],
   "source": [
    "pokemon = pokemon.withColumn(\"place\",F.lit(\"home\"))"
   ]
  },
  {
   "cell_type": "code",
   "execution_count": 21,
   "metadata": {},
   "outputs": [
    {
     "name": "stdout",
     "output_type": "stream",
     "text": [
      "+----------+-----+---+----------+-------+-----+\n",
      "|      name| type| hp| evolution|pokedex|place|\n",
      "+----------+-----+---+----------+-------+-----+\n",
      "| Bulbasaur|grass| 45|   Ivysaur|    yes| home|\n",
      "|Charmander| fire| 39|Charmeleon|     no| home|\n",
      "|  Squirtle|water| 44| Wartortle|    yes| home|\n",
      "|  Caterpie|  bug| 45|   Metapod|     no| home|\n",
      "+----------+-----+---+----------+-------+-----+\n",
      "\n"
     ]
    }
   ],
   "source": [
    "pokemon.show(10)"
   ]
  },
  {
   "cell_type": "markdown",
   "metadata": {},
   "source": [
    "### Step 6. Present the type of each column"
   ]
  },
  {
   "cell_type": "code",
   "execution_count": 22,
   "metadata": {
    "collapsed": false,
    "jupyter": {
     "outputs_hidden": false
    }
   },
   "outputs": [
    {
     "name": "stdout",
     "output_type": "stream",
     "text": [
      "root\n",
      " |-- name: string (nullable = true)\n",
      " |-- type: string (nullable = true)\n",
      " |-- hp: long (nullable = true)\n",
      " |-- evolution: string (nullable = true)\n",
      " |-- pokedex: string (nullable = true)\n",
      " |-- place: string (nullable = false)\n",
      "\n"
     ]
    }
   ],
   "source": [
    "pokemon.printSchema()"
   ]
  },
  {
   "cell_type": "markdown",
   "metadata": {},
   "source": [
    "### BONUS: Create your own question and answer it."
   ]
  },
  {
   "cell_type": "code",
   "execution_count": null,
   "metadata": {
    "collapsed": true,
    "jupyter": {
     "outputs_hidden": true
    }
   },
   "outputs": [],
   "source": []
  }
 ],
 "metadata": {
  "kernelspec": {
   "display_name": "Python 3 (ipykernel)",
   "language": "python",
   "name": "python3"
  },
  "language_info": {
   "codemirror_mode": {
    "name": "ipython",
    "version": 3
   },
   "file_extension": ".py",
   "mimetype": "text/x-python",
   "name": "python",
   "nbconvert_exporter": "python",
   "pygments_lexer": "ipython3",
   "version": "3.8.10"
  }
 },
 "nbformat": 4,
 "nbformat_minor": 4
}
