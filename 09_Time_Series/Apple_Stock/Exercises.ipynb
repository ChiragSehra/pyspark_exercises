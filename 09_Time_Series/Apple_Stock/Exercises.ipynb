{
 "cells": [
  {
   "cell_type": "markdown",
   "metadata": {},
   "source": [
    "# Apple Stock"
   ]
  },
  {
   "cell_type": "markdown",
   "metadata": {},
   "source": [
    "### Introduction:\n",
    "\n",
    "We are going to use Apple's stock price.\n",
    "\n",
    "\n",
    "### Step 1. Import the necessary libraries"
   ]
  },
  {
   "cell_type": "code",
   "execution_count": 1,
   "metadata": {
    "collapsed": false,
    "jupyter": {
     "outputs_hidden": false
    }
   },
   "outputs": [],
   "source": [
    "from pyspark.sql import SparkSession, Row\n",
    "import pyspark.sql.functions as F"
   ]
  },
  {
   "cell_type": "code",
   "execution_count": 71,
   "metadata": {},
   "outputs": [],
   "source": [
    "import seaborn as sns"
   ]
  },
  {
   "cell_type": "code",
   "execution_count": 2,
   "metadata": {},
   "outputs": [
    {
     "name": "stdout",
     "output_type": "stream",
     "text": [
      "23/01/02 18:30:13 WARN Utils: Your hostname, xkeyscore resolves to a loopback address: 127.0.1.1; using 192.168.1.10 instead (on interface wlp0s20f3)\n",
      "23/01/02 18:30:13 WARN Utils: Set SPARK_LOCAL_IP if you need to bind to another address\n"
     ]
    },
    {
     "name": "stderr",
     "output_type": "stream",
     "text": [
      "Setting default log level to \"WARN\".\n",
      "To adjust logging level use sc.setLogLevel(newLevel). For SparkR, use setLogLevel(newLevel).\n"
     ]
    },
    {
     "name": "stdout",
     "output_type": "stream",
     "text": [
      "23/01/02 18:30:14 WARN NativeCodeLoader: Unable to load native-hadoop library for your platform... using builtin-java classes where applicable\n",
      "23/01/02 18:30:14 WARN Utils: Service 'SparkUI' could not bind on port 4040. Attempting port 4041.\n",
      "23/01/02 18:30:14 WARN Utils: Service 'SparkUI' could not bind on port 4041. Attempting port 4042.\n",
      "23/01/02 18:30:14 WARN Utils: Service 'SparkUI' could not bind on port 4042. Attempting port 4043.\n",
      "23/01/02 18:30:14 WARN Utils: Service 'SparkUI' could not bind on port 4043. Attempting port 4044.\n"
     ]
    }
   ],
   "source": [
    "spark = SparkSession.builder.master(\"local[1]\").appName(\"scores\").getOrCreate()"
   ]
  },
  {
   "cell_type": "markdown",
   "metadata": {},
   "source": [
    "### Step 2. Import the dataset from this [address](https://raw.githubusercontent.com/guipsamora/pandas_exercises/master/09_Time_Series/Apple_Stock/appl_1980_2014.csv)"
   ]
  },
  {
   "cell_type": "markdown",
   "metadata": {
    "tags": []
   },
   "source": [
    "### Step 3. Assign it to a variable apple"
   ]
  },
  {
   "cell_type": "code",
   "execution_count": 3,
   "metadata": {
    "collapsed": false,
    "jupyter": {
     "outputs_hidden": false
    }
   },
   "outputs": [],
   "source": [
    "apple = spark.read.csv(\"appl_1980_2014.csv\", inferSchema=True,header=True)"
   ]
  },
  {
   "cell_type": "code",
   "execution_count": 4,
   "metadata": {},
   "outputs": [
    {
     "name": "stdout",
     "output_type": "stream",
     "text": [
      "+-------------------+-----+-----+-----+-----+--------+---------+\n",
      "|               Date| Open| High|  Low|Close|  Volume|Adj Close|\n",
      "+-------------------+-----+-----+-----+-----+--------+---------+\n",
      "|2014-07-08 00:00:00|96.27| 96.8|93.92|95.35|65130000|    95.35|\n",
      "|2014-07-07 00:00:00|94.14|95.99| 94.1|95.97|56305400|    95.97|\n",
      "|2014-07-03 00:00:00|93.67| 94.1| 93.2|94.03|22891800|    94.03|\n",
      "|2014-07-02 00:00:00|93.87|94.06|93.09|93.48|28420900|    93.48|\n",
      "|2014-07-01 00:00:00|93.52|94.07|93.13|93.52|38170200|    93.52|\n",
      "|2014-06-30 00:00:00| 92.1|93.73|92.09|92.93|49482300|    92.93|\n",
      "|2014-06-27 00:00:00|90.82| 92.0|90.77|91.98|64006800|    91.98|\n",
      "|2014-06-26 00:00:00|90.37|91.05| 89.8| 90.9|32595800|     90.9|\n",
      "|2014-06-25 00:00:00|90.21| 90.7|89.65|90.36|36852200|    90.36|\n",
      "|2014-06-24 00:00:00|90.75|91.74|90.19|90.28|38988300|    90.28|\n",
      "+-------------------+-----+-----+-----+-----+--------+---------+\n",
      "only showing top 10 rows\n",
      "\n"
     ]
    }
   ],
   "source": [
    "apple.show(10)"
   ]
  },
  {
   "cell_type": "markdown",
   "metadata": {},
   "source": [
    "### Step 4.  Check out the type of the columns"
   ]
  },
  {
   "cell_type": "code",
   "execution_count": 5,
   "metadata": {
    "collapsed": false,
    "jupyter": {
     "outputs_hidden": false
    }
   },
   "outputs": [
    {
     "name": "stdout",
     "output_type": "stream",
     "text": [
      "root\n",
      " |-- Date: timestamp (nullable = true)\n",
      " |-- Open: double (nullable = true)\n",
      " |-- High: double (nullable = true)\n",
      " |-- Low: double (nullable = true)\n",
      " |-- Close: double (nullable = true)\n",
      " |-- Volume: integer (nullable = true)\n",
      " |-- Adj Close: double (nullable = true)\n",
      "\n"
     ]
    }
   ],
   "source": [
    "apple.printSchema()"
   ]
  },
  {
   "cell_type": "markdown",
   "metadata": {},
   "source": [
    "### Step 5. Transform the Date column as a datetime type"
   ]
  },
  {
   "cell_type": "code",
   "execution_count": 6,
   "metadata": {
    "collapsed": false,
    "jupyter": {
     "outputs_hidden": false
    }
   },
   "outputs": [],
   "source": [
    "#  already in datetime format"
   ]
  },
  {
   "cell_type": "markdown",
   "metadata": {},
   "source": [
    "### Step 6.  Set the date as the index"
   ]
  },
  {
   "cell_type": "code",
   "execution_count": 8,
   "metadata": {
    "collapsed": false,
    "jupyter": {
     "outputs_hidden": false
    }
   },
   "outputs": [],
   "source": [
    "#  not possible in pyspark"
   ]
  },
  {
   "cell_type": "markdown",
   "metadata": {},
   "source": [
    "### Step 7.  Is there any duplicate dates?"
   ]
  },
  {
   "cell_type": "code",
   "execution_count": 13,
   "metadata": {
    "collapsed": false,
    "jupyter": {
     "outputs_hidden": false
    }
   },
   "outputs": [
    {
     "name": "stdout",
     "output_type": "stream",
     "text": [
      "No Duplication\n"
     ]
    }
   ],
   "source": [
    "if apple.count() > apple.drop_duplicates(['Date']).count():\n",
    "    print(\"Data has duplication\")\n",
    "else:\n",
    "    print(\"No Duplication\")"
   ]
  },
  {
   "cell_type": "markdown",
   "metadata": {},
   "source": [
    "### Step 8.  Ops...it seems the index is from the most recent date. Make the first entry the oldest date."
   ]
  },
  {
   "cell_type": "code",
   "execution_count": 18,
   "metadata": {
    "collapsed": false,
    "jupyter": {
     "outputs_hidden": false
    }
   },
   "outputs": [
    {
     "name": "stdout",
     "output_type": "stream",
     "text": [
      "+-------------------+-----+-----+-----+-----+---------+---------+\n",
      "|               Date| Open| High|  Low|Close|   Volume|Adj Close|\n",
      "+-------------------+-----+-----+-----+-----+---------+---------+\n",
      "|1980-12-12 00:00:00|28.75|28.87|28.75|28.75|117258400|     0.45|\n",
      "|1980-12-15 00:00:00|27.38|27.38|27.25|27.25| 43971200|     0.42|\n",
      "|1980-12-16 00:00:00|25.37|25.37|25.25|25.25| 26432000|     0.39|\n",
      "|1980-12-17 00:00:00|25.87| 26.0|25.87|25.87| 21610400|      0.4|\n",
      "|1980-12-18 00:00:00|26.63|26.75|26.63|26.63| 18362400|     0.41|\n",
      "|1980-12-19 00:00:00|28.25|28.38|28.25|28.25| 12157600|     0.44|\n",
      "|1980-12-22 00:00:00|29.63|29.75|29.63|29.63|  9340800|     0.46|\n",
      "|1980-12-23 00:00:00|30.88| 31.0|30.88|30.88| 11737600|     0.48|\n",
      "|1980-12-24 00:00:00| 32.5|32.63| 32.5| 32.5| 12000800|     0.51|\n",
      "|1980-12-26 00:00:00| 35.5|35.62| 35.5| 35.5| 13893600|     0.55|\n",
      "|1980-12-29 00:00:00| 36.0|36.13| 36.0| 36.0| 23290400|     0.56|\n",
      "|1980-12-30 00:00:00|35.25|35.25|35.12|35.12| 17220000|     0.55|\n",
      "|1980-12-31 00:00:00|34.25|34.25|34.13|34.13|  8937600|     0.53|\n",
      "|1981-01-02 00:00:00| 34.5|34.75| 34.5| 34.5|  5415200|     0.54|\n",
      "|1981-01-05 00:00:00|33.87|33.87|33.75|33.75|  8932000|     0.53|\n",
      "|1981-01-06 00:00:00|32.37|32.37|32.25|32.25| 11289600|      0.5|\n",
      "|1981-01-07 00:00:00| 31.0| 31.0|30.88|30.88| 13921600|     0.48|\n",
      "|1981-01-08 00:00:00|30.37|30.37|30.25|30.25|  9956800|     0.47|\n",
      "|1981-01-09 00:00:00|31.88| 32.0|31.88|31.88|  5376000|      0.5|\n",
      "|1981-01-12 00:00:00|31.88|31.88|31.62|31.62|  5924800|     0.49|\n",
      "+-------------------+-----+-----+-----+-----+---------+---------+\n",
      "only showing top 20 rows\n",
      "\n"
     ]
    }
   ],
   "source": [
    "apple.select('*').sort('Date',ascending=True).show()"
   ]
  },
  {
   "cell_type": "markdown",
   "metadata": {},
   "source": [
    "### Step 9. Get the last business day of each month"
   ]
  },
  {
   "cell_type": "code",
   "execution_count": 55,
   "metadata": {
    "collapsed": false,
    "jupyter": {
     "outputs_hidden": false
    }
   },
   "outputs": [
    {
     "name": "stdout",
     "output_type": "stream",
     "text": [
      "+-------------------+-------+\n",
      "|               Date|  month|\n",
      "+-------------------+-------+\n",
      "|2014-07-08 00:00:00|2014-07|\n",
      "|2014-07-07 00:00:00|2014-07|\n",
      "|2014-07-03 00:00:00|2014-07|\n",
      "|2014-07-02 00:00:00|2014-07|\n",
      "|2014-07-01 00:00:00|2014-07|\n",
      "|2014-06-30 00:00:00|2014-06|\n",
      "|2014-06-27 00:00:00|2014-06|\n",
      "|2014-06-26 00:00:00|2014-06|\n",
      "|2014-06-25 00:00:00|2014-06|\n",
      "|2014-06-24 00:00:00|2014-06|\n",
      "+-------------------+-------+\n",
      "only showing top 10 rows\n",
      "\n"
     ]
    }
   ],
   "source": [
    "a = apple.select('Date', F.date_format('Date','yyyy-MM').alias('month'))\n",
    "a.show(10)"
   ]
  },
  {
   "cell_type": "code",
   "execution_count": 57,
   "metadata": {},
   "outputs": [
    {
     "name": "stdout",
     "output_type": "stream",
     "text": [
      "+-------+-------------------+\n",
      "|  month|          max(Date)|\n",
      "+-------+-------------------+\n",
      "|1980-12|1980-12-31 00:00:00|\n",
      "|1981-01|1981-01-30 00:00:00|\n",
      "|1981-02|1981-02-27 00:00:00|\n",
      "|1981-03|1981-03-31 00:00:00|\n",
      "|1981-04|1981-04-30 00:00:00|\n",
      "|1981-05|1981-05-29 00:00:00|\n",
      "|1981-06|1981-06-30 00:00:00|\n",
      "|1981-07|1981-07-31 00:00:00|\n",
      "|1981-08|1981-08-31 00:00:00|\n",
      "|1981-09|1981-09-30 00:00:00|\n",
      "+-------+-------------------+\n",
      "only showing top 10 rows\n",
      "\n"
     ]
    }
   ],
   "source": [
    "a.select('Date', 'month').groupby('month').agg(F.max('Date')).sort('month',ascending=True).show(10)"
   ]
  },
  {
   "cell_type": "markdown",
   "metadata": {},
   "source": [
    "### Step 10.  What is the difference in days between the first day and the oldest"
   ]
  },
  {
   "cell_type": "code",
   "execution_count": 64,
   "metadata": {
    "collapsed": false,
    "jupyter": {
     "outputs_hidden": false
    }
   },
   "outputs": [
    {
     "data": {
      "text/plain": [
       "[Row((max(Date) - min(Date) AS difference)=datetime.timedelta(days=12261))]"
      ]
     },
     "execution_count": 64,
     "metadata": {},
     "output_type": "execute_result"
    }
   ],
   "source": [
    "a.select(\n",
    " F.max('Date')- F.min('Date').alias('difference')\n",
    "    ).head(1)"
   ]
  },
  {
   "cell_type": "markdown",
   "metadata": {},
   "source": [
    "### Step 11.  How many months in the data we have?"
   ]
  },
  {
   "cell_type": "code",
   "execution_count": 70,
   "metadata": {
    "collapsed": false,
    "jupyter": {
     "outputs_hidden": false
    }
   },
   "outputs": [
    {
     "data": {
      "text/plain": [
       "404"
      ]
     },
     "execution_count": 70,
     "metadata": {},
     "output_type": "execute_result"
    }
   ],
   "source": [
    "a.select('month').distinct().count()"
   ]
  },
  {
   "cell_type": "markdown",
   "metadata": {},
   "source": [
    "### Step 12. Plot the 'Adj Close' value. Set the size of the figure to 13.5 x 9 inches"
   ]
  },
  {
   "cell_type": "code",
   "execution_count": 73,
   "metadata": {},
   "outputs": [],
   "source": [
    "apple_pd = apple.toPandas()"
   ]
  },
  {
   "cell_type": "code",
   "execution_count": 74,
   "metadata": {
    "collapsed": false,
    "jupyter": {
     "outputs_hidden": false
    }
   },
   "outputs": [
    {
     "data": {
      "text/plain": [
       "<AxesSubplot: xlabel='Date', ylabel='Adj Close'>"
      ]
     },
     "execution_count": 74,
     "metadata": {},
     "output_type": "execute_result"
    },
    {
     "data": {
      "image/png": "[encoded data removed]",
      "text/plain": [
       "<Figure size 640x480 with 1 Axes>"
      ]
     },
     "metadata": {},
     "output_type": "display_data"
    }
   ],
   "source": [
    "sns.lineplot(x=apple_pd['Date'], y=apple_pd['Adj Close'])"
   ]
  },
  {
   "cell_type": "markdown",
   "metadata": {},
   "source": [
    "### BONUS: Create your own question and answer it."
   ]
  },
  {
   "cell_type": "code",
   "execution_count": null,
   "metadata": {
    "collapsed": true,
    "jupyter": {
     "outputs_hidden": true
    }
   },
   "outputs": [],
   "source": []
  }
 ],
 "metadata": {
  "anaconda-cloud": {},
  "kernelspec": {
   "display_name": "Python 3 (ipykernel)",
   "language": "python",
   "name": "python3"
  },
  "language_info": {
   "codemirror_mode": {
    "name": "ipython",
    "version": 3
   },
   "file_extension": ".py",
   "mimetype": "text/x-python",
   "name": "python",
   "nbconvert_exporter": "python",
   "pygments_lexer": "ipython3",
   "version": "3.8.10"
  }
 },
 "nbformat": 4,
 "nbformat_minor": 4
}
