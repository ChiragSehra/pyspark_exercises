{
 "cells": [
  {
   "cell_type": "markdown",
   "metadata": {},
   "source": [
    "# Investor - Flow of Funds - US"
   ]
  },
  {
   "cell_type": "markdown",
   "metadata": {},
   "source": [
    "### Introduction:\n",
    "\n",
    "Special thanks to: https://github.com/rgrp for sharing the dataset.\n",
    "\n",
    "### Step 1. Import the necessary libraries"
   ]
  },
  {
   "cell_type": "code",
   "execution_count": 1,
   "metadata": {
    "collapsed": false,
    "jupyter": {
     "outputs_hidden": false
    }
   },
   "outputs": [],
   "source": [
    "from pyspark.sql import SparkSession, Row\n",
    "import pyspark.sql.functions as F\n",
    "import seaborn as sns"
   ]
  },
  {
   "cell_type": "code",
   "execution_count": 3,
   "metadata": {},
   "outputs": [],
   "source": [
    "import requests as r"
   ]
  },
  {
   "cell_type": "code",
   "execution_count": 2,
   "metadata": {},
   "outputs": [
    {
     "name": "stdout",
     "output_type": "stream",
     "text": [
      "23/01/02 20:30:00 WARN Utils: Your hostname, xkeyscore resolves to a loopback address: 127.0.1.1; using 192.168.1.10 instead (on interface wlp0s20f3)\n",
      "23/01/02 20:30:00 WARN Utils: Set SPARK_LOCAL_IP if you need to bind to another address\n"
     ]
    },
    {
     "name": "stderr",
     "output_type": "stream",
     "text": [
      "Setting default log level to \"WARN\".\n",
      "To adjust logging level use sc.setLogLevel(newLevel). For SparkR, use setLogLevel(newLevel).\n"
     ]
    },
    {
     "name": "stdout",
     "output_type": "stream",
     "text": [
      "23/01/02 20:30:00 WARN NativeCodeLoader: Unable to load native-hadoop library for your platform... using builtin-java classes where applicable\n",
      "23/01/02 20:30:01 WARN Utils: Service 'SparkUI' could not bind on port 4040. Attempting port 4041.\n",
      "23/01/02 20:30:01 WARN Utils: Service 'SparkUI' could not bind on port 4041. Attempting port 4042.\n",
      "23/01/02 20:30:01 WARN Utils: Service 'SparkUI' could not bind on port 4042. Attempting port 4043.\n",
      "23/01/02 20:30:01 WARN Utils: Service 'SparkUI' could not bind on port 4043. Attempting port 4044.\n",
      "23/01/02 20:30:01 WARN Utils: Service 'SparkUI' could not bind on port 4044. Attempting port 4045.\n",
      "23/01/02 20:30:01 WARN Utils: Service 'SparkUI' could not bind on port 4045. Attempting port 4046.\n"
     ]
    }
   ],
   "source": [
    "spark = SparkSession.builder.master(\"local[1]\").appName(\"scores\").getOrCreate()"
   ]
  },
  {
   "cell_type": "markdown",
   "metadata": {},
   "source": [
    "### Step 2. Import the dataset from this [address](https://raw.githubusercontent.com/datasets/investor-flow-of-funds-us/master/data/weekly.csv). "
   ]
  },
  {
   "cell_type": "code",
   "execution_count": 8,
   "metadata": {},
   "outputs": [],
   "source": [
    "URL = \"https://raw.githubusercontent.com/datasets/investor-flow-of-funds-us/master/data/weekly.csv\"\n",
    "req = r.get(URL)\n",
    "\n",
    "with open('weekly.csv','w+') as f:\n",
    "    f.write(req.text)\n",
    "    "
   ]
  },
  {
   "cell_type": "markdown",
   "metadata": {},
   "source": [
    "### Step 3. Assign it to a variable called "
   ]
  },
  {
   "cell_type": "code",
   "execution_count": 9,
   "metadata": {
    "collapsed": false,
    "jupyter": {
     "outputs_hidden": false
    }
   },
   "outputs": [],
   "source": [
    "data = spark.read.csv('weekly.csv', inferSchema=True, header=True)"
   ]
  },
  {
   "cell_type": "code",
   "execution_count": 10,
   "metadata": {},
   "outputs": [
    {
     "name": "stdout",
     "output_type": "stream",
     "text": [
      "+-------------------+------------+---------------+------------+------+----------+------------+--------------+-----+\n",
      "|               Date|Total Equity|Domestic Equity|World Equity|Hybrid|Total Bond|Taxable Bond|Municipal Bond|Total|\n",
      "+-------------------+------------+---------------+------------+------+----------+------------+--------------+-----+\n",
      "|2012-12-05 00:00:00|       -7426|          -6060|       -1367|   -74|      5317|        4210|          1107|-2183|\n",
      "|2012-12-12 00:00:00|       -8783|          -7520|       -1263|   123|      1818|        1598|           219|-6842|\n",
      "|2012-12-19 00:00:00|       -5496|          -5470|         -26|   -73|       103|        3472|         -3369|-5466|\n",
      "|2012-12-26 00:00:00|       -4451|          -4076|        -375|   550|      2610|        3333|          -722|-1291|\n",
      "|2013-01-02 00:00:00|      -11156|          -9622|       -1533|  -158|      2383|        2103|           280|-8931|\n",
      "|2013-01-09 00:00:00|       14817|           7995|        6821|  2888|      9766|        7311|          2455|27471|\n",
      "|2014-04-02 00:00:00|        3155|            938|        2217|   265|      3379|        3129|           250| 6799|\n",
      "|2014-04-09 00:00:00|        5761|           2080|        3681|  1482|      1609|        1448|           161| 8852|\n",
      "|2014-04-16 00:00:00|        2286|            634|        1652|  1186|       633|         604|            29| 4105|\n",
      "|2014-04-23 00:00:00|        3530|           1392|        2138|  1239|      1984|        1453|           531| 6753|\n",
      "+-------------------+------------+---------------+------------+------+----------+------------+--------------+-----+\n",
      "only showing top 10 rows\n",
      "\n"
     ]
    }
   ],
   "source": [
    "data.show(10)"
   ]
  },
  {
   "cell_type": "code",
   "execution_count": 11,
   "metadata": {},
   "outputs": [
    {
     "name": "stdout",
     "output_type": "stream",
     "text": [
      "root\n",
      " |-- Date: timestamp (nullable = true)\n",
      " |-- Total Equity: integer (nullable = true)\n",
      " |-- Domestic Equity: integer (nullable = true)\n",
      " |-- World Equity: integer (nullable = true)\n",
      " |-- Hybrid: integer (nullable = true)\n",
      " |-- Total Bond: integer (nullable = true)\n",
      " |-- Taxable Bond: integer (nullable = true)\n",
      " |-- Municipal Bond: integer (nullable = true)\n",
      " |-- Total: integer (nullable = true)\n",
      "\n"
     ]
    }
   ],
   "source": [
    "data.printSchema()"
   ]
  },
  {
   "cell_type": "markdown",
   "metadata": {},
   "source": [
    "### Step 4.  What is the frequency of the dataset?"
   ]
  },
  {
   "cell_type": "code",
   "execution_count": 12,
   "metadata": {
    "collapsed": false,
    "jupyter": {
     "outputs_hidden": false
    }
   },
   "outputs": [],
   "source": [
    "# weekly"
   ]
  },
  {
   "cell_type": "markdown",
   "metadata": {},
   "source": [
    "### Step 5. Set the column Date as the index."
   ]
  },
  {
   "cell_type": "code",
   "execution_count": 13,
   "metadata": {
    "collapsed": false,
    "jupyter": {
     "outputs_hidden": false
    }
   },
   "outputs": [],
   "source": [
    "# not possible in Pyspark dataframes"
   ]
  },
  {
   "cell_type": "markdown",
   "metadata": {},
   "source": [
    "### Step 6. What is the type of the index?"
   ]
  },
  {
   "cell_type": "code",
   "execution_count": null,
   "metadata": {
    "collapsed": false,
    "jupyter": {
     "outputs_hidden": false
    }
   },
   "outputs": [],
   "source": []
  },
  {
   "cell_type": "markdown",
   "metadata": {},
   "source": [
    "### Step 7. Set the index to a DatetimeIndex type"
   ]
  },
  {
   "cell_type": "code",
   "execution_count": null,
   "metadata": {
    "collapsed": false,
    "jupyter": {
     "outputs_hidden": false
    }
   },
   "outputs": [],
   "source": []
  },
  {
   "cell_type": "markdown",
   "metadata": {},
   "source": [
    "### Step 8.  Change the frequency to monthly, sum the values and assign it to monthly."
   ]
  },
  {
   "cell_type": "code",
   "execution_count": 22,
   "metadata": {
    "collapsed": false,
    "jupyter": {
     "outputs_hidden": false
    }
   },
   "outputs": [
    {
     "name": "stdout",
     "output_type": "stream",
     "text": [
      "+-------+-----------------+--------------------+-----------------+-----------+---------------+-----------------+-------------------+----------+\n",
      "|  month|sum(Total Equity)|sum(Domestic Equity)|sum(World Equity)|sum(Hybrid)|sum(Total Bond)|sum(Taxable Bond)|sum(Municipal Bond)|sum(Total)|\n",
      "+-------+-----------------+--------------------+-----------------+-----------+---------------+-----------------+-------------------+----------+\n",
      "|2012-12|           -26156|              -23126|            -3031|        526|           9848|            12613|              -2765|    -15782|\n",
      "|2015-02|             5508|                3509|             1999|       1752|           9099|             7443|               1656|     16359|\n",
      "|2014-08|             1943|               -5508|             7452|       1885|           1897|            -1013|               2910|      5723|\n",
      "|2014-09|            -2767|               -6596|             3829|       1599|           3984|             2479|               1504|      2816|\n",
      "|2014-05|            -2203|               -8720|             6518|       3172|          13767|            10192|               3576|     14736|\n",
      "|2015-01|             3471|               -1164|             4635|       1729|           7368|             2762|               4606|     12569|\n",
      "|2014-11|            -2753|               -7239|             4485|        729|          14528|            11566|               2962|     12502|\n",
      "|2014-04|            10842|                1048|             9794|       4931|           8493|             7193|               1300|     24267|\n",
      "|2014-06|             2319|               -6546|             8865|       4588|           9715|             7551|               2163|     16621|\n",
      "|2014-07|            -7051|              -11128|             4078|       2666|           7506|             7026|                481|      3122|\n",
      "+-------+-----------------+--------------------+-----------------+-----------+---------------+-----------------+-------------------+----------+\n",
      "only showing top 10 rows\n",
      "\n"
     ]
    }
   ],
   "source": [
    "monthly = data.select(F.date_format('Date', 'yyyy-MM').alias('month'),'*').groupby('month').sum()\n",
    "monthly.show(10)"
   ]
  },
  {
   "cell_type": "markdown",
   "metadata": {},
   "source": [
    "### Step 9. You will notice that it filled the dataFrame with months that don't have any data with NaN. Let's drop these rows."
   ]
  },
  {
   "cell_type": "code",
   "execution_count": null,
   "metadata": {
    "collapsed": false,
    "jupyter": {
     "outputs_hidden": false
    }
   },
   "outputs": [],
   "source": []
  },
  {
   "cell_type": "markdown",
   "metadata": {},
   "source": [
    "### Step 10. Good, now we have the monthly data. Now change the frequency to year."
   ]
  },
  {
   "cell_type": "code",
   "execution_count": 23,
   "metadata": {
    "collapsed": false,
    "jupyter": {
     "outputs_hidden": false
    }
   },
   "outputs": [
    {
     "name": "stdout",
     "output_type": "stream",
     "text": [
      "+----+-----------------+--------------------+-----------------+-----------+---------------+-----------------+-------------------+----------+\n",
      "|year|sum(Total Equity)|sum(Domestic Equity)|sum(World Equity)|sum(Hybrid)|sum(Total Bond)|sum(Taxable Bond)|sum(Municipal Bond)|sum(Total)|\n",
      "+----+-----------------+--------------------+-----------------+-----------+---------------+-----------------+-------------------+----------+\n",
      "|2012|           -26156|              -23126|            -3031|        526|           9848|            12613|              -2765|    -15782|\n",
      "|2014|              330|              -44689|            45021|      19570|          59890|            44994|              14896|     79787|\n",
      "|2013|             3661|               -1627|             5288|       2730|          12149|             9414|               2735|     18540|\n",
      "|2015|            15049|              -10459|            25508|       7280|          26028|            17986|               8041|     48357|\n",
      "+----+-----------------+--------------------+-----------------+-----------+---------------+-----------------+-------------------+----------+\n",
      "\n"
     ]
    }
   ],
   "source": [
    "yearly = data.select(F.date_format('Date', 'yyyy').alias('year'),'*').groupby('year').sum()\n",
    "yearly.show(10)"
   ]
  },
  {
   "cell_type": "markdown",
   "metadata": {},
   "source": [
    "### BONUS: Create your own question and answer it."
   ]
  },
  {
   "cell_type": "code",
   "execution_count": null,
   "metadata": {
    "collapsed": true,
    "jupyter": {
     "outputs_hidden": true
    }
   },
   "outputs": [],
   "source": []
  }
 ],
 "metadata": {
  "kernelspec": {
   "display_name": "Python 3 (ipykernel)",
   "language": "python",
   "name": "python3"
  },
  "language_info": {
   "codemirror_mode": {
    "name": "ipython",
    "version": 3
   },
   "file_extension": ".py",
   "mimetype": "text/x-python",
   "name": "python",
   "nbconvert_exporter": "python",
   "pygments_lexer": "ipython3",
   "version": "3.8.10"
  }
 },
 "nbformat": 4,
 "nbformat_minor": 4
}
